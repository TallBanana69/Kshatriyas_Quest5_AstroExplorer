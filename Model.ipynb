{
 "cells": [
  {
   "cell_type": "code",
   "execution_count": 45,
   "id": "d5790e69-3999-4f70-b5a8-9fabd689fb64",
   "metadata": {},
   "outputs": [],
   "source": [
    "import numpy as np\n",
    "import pandas as pd\n",
    "import tensorflow as tf\n",
    "from tensorflow.keras.layers import Conv2D, ReLU, AveragePooling2D, concatenate, Flatten, Dense\n",
    "from tensorflow.keras.preprocessing.image import ImageDataGenerator\n",
    "from tensorflow.keras.callbacks import EarlyStopping\n",
    "from sklearn.model_selection import train_test_split\n",
    "from sklearn import metrics\n",
    "import seaborn as sns\n",
    "import matplotlib.pyplot as plt\n"
   ]
  },
  {
   "cell_type": "code",
   "execution_count": 61,
   "id": "a5402f44-e75f-4101-bdd8-35d10f221d2e",
   "metadata": {},
   "outputs": [],
   "source": [
    "# X is dataset of image cropped to 32x32 with 5 channels \n",
    "X = np.load(\"./dataset/X.npy\")\n",
    "# y is categorical data of target object\n",
    "y = np.load(\"./dataset/y_exp1.npy\", allow_pickle=True)"
   ]
  },
  {
   "cell_type": "code",
   "execution_count": 62,
   "id": "164752af-3510-442b-a769-1f3d1f8a5570",
   "metadata": {},
   "outputs": [
    {
     "name": "stdout",
     "output_type": "stream",
     "text": [
      "(239999, 32, 32, 5)\n",
      "(239999,)\n"
     ]
    }
   ],
   "source": [
    "print(X.shape)\n",
    "print(y.shape)"
   ]
  },
  {
   "cell_type": "code",
   "execution_count": 111,
   "id": "19e7d439-2c85-49ba-9207-cb478ef44864",
   "metadata": {},
   "outputs": [
    {
     "data": {
      "image/png": "[encoded data removed]",
      "text/plain": [
       "<Figure size 1500x500 with 5 Axes>"
      ]
     },
     "metadata": {},
     "output_type": "display_data"
    }
   ],
   "source": [
    "import matplotlib.pyplot as plt\n",
    "import numpy as np\n",
    "\n",
    "# Assume images is a numpy array with shape (num_images, 32, 32, 5)\n",
    "# If you have a single image, images.shape will be (32, 32, 5)\n",
    "\n",
    "def plot_fits_image(image, channels=None):\n",
    "    \"\"\"\n",
    "    Plot the image across specified channels.\n",
    "    \n",
    "    Parameters:\n",
    "    - image: numpy array of shape (32, 32, 5)\n",
    "    - channels: list of channels to plot (default: all channels [0, 1, 2, 3, 4])\n",
    "    \"\"\"\n",
    "    if channels is None:\n",
    "        channels = list(range(image.shape[-1]))  # Default to all channels\n",
    "\n",
    "    fig, axes = plt.subplots(1, len(channels), figsize=(15, 5))\n",
    "\n",
    "    for i, channel in enumerate(channels):\n",
    "        ax = axes[i]\n",
    "        ax.imshow(image[:, :, channel], cmap='gray')\n",
    "        ax.set_title(f'Channel {channel}')\n",
    "        ax.axis('off')\n",
    "    \n",
    "    plt.show()\n",
    "\n",
    "# Example: Visualize the first image in the dataset\n",
    "plot_fits_image(X[1])\n"
   ]
  },
  {
   "cell_type": "code",
   "execution_count": 63,
   "id": "39708129-086b-4d67-9787-040255e2917b",
   "metadata": {},
   "outputs": [],
   "source": [
    "y, label_strings = pd.factorize(y, sort=True)\n",
    "y = tf.keras.utils.to_categorical(y)"
   ]
  },
  {
   "cell_type": "code",
   "execution_count": 95,
   "id": "c4e6d228-4a93-401e-b5be-63f2fc2b9dba",
   "metadata": {},
   "outputs": [
    {
     "name": "stdout",
     "output_type": "stream",
     "text": [
      "Class 0: 79999.0 samples\n",
      "Class 1: 80000.0 samples\n",
      "Class 2: 80000.0 samples\n"
     ]
    }
   ],
   "source": [
    "#Balanced Data \n",
    "class_counts = np.sum(y, axis=0)\n",
    "for i, count in enumerate(class_counts):\n",
    "    print(f'Class {i}: {count} samples')"
   ]
  },
  {
   "cell_type": "code",
   "execution_count": 64,
   "id": "138fffc8-f468-47c1-98be-b49f4ef0293f",
   "metadata": {},
   "outputs": [
    {
     "name": "stdout",
     "output_type": "stream",
     "text": [
      "['GALAXY' 'QSO' 'STAR']\n"
     ]
    }
   ],
   "source": [
    "# Three classes of astronomical objects\n",
    "print(label_strings)"
   ]
  },
  {
   "cell_type": "code",
   "execution_count": 65,
   "id": "c6371638-3edd-45fb-91a7-c76d308f5220",
   "metadata": {},
   "outputs": [],
   "source": [
    "# 50-50 splitting of data with further 0.15 split for validation\n",
    "X_train, X_test, y_train, y_test = train_test_split(X, y, test_size=0.5, random_state=42)\n",
    "X_train, X_val, y_train, y_val = train_test_split(X_train, y_train, test_size=0.15, random_state=42)"
   ]
  },
  {
   "cell_type": "code",
   "execution_count": 75,
   "id": "360e929c-bdbd-4a46-b9c1-1db20fe9d104",
   "metadata": {},
   "outputs": [],
   "source": [
    "inp_layer = tf.keras.Input(shape=X_train.shape[1:])\n",
    "\n",
    "mod = Conv2D(filters=64, kernel_size=(5,5), padding='same')(inp_layer)\n",
    "mod = ReLU()(mod)\n",
    "\n",
    "c1 = Conv2D(filters=48, kernel_size=(1,1), padding='same')(mod)\n",
    "c1 = ReLU()(c1)\n",
    "c2 = Conv2D(filters=48, kernel_size=(1,1), padding='same')(mod)\n",
    "c2 = ReLU()(c2)\n",
    "c3 = Conv2D(filters=48, kernel_size=(1,1), padding='same')(mod)\n",
    "c3 = ReLU()(c3)\n",
    "c4 = Conv2D(filters=64, kernel_size=(1,1), padding='same')(c1)\n",
    "c4 = ReLU()(c4)\n",
    "c5 = Conv2D(filters=64, kernel_size=(3,3), padding='same')(c1)\n",
    "c5 = ReLU()(c5)\n",
    "c6 = Conv2D(filters=64, kernel_size=(5,5), padding='same')(c2)\n",
    "c6 = ReLU()(c6)\n",
    "p1 = AveragePooling2D(pool_size=(1, 1))(c3)\n",
    "mod = concatenate([c4,c5,c6,p1])\n",
    "\n",
    "c7 = Conv2D(filters=64, kernel_size=(1,1), padding='same')(mod)\n",
    "c7 = ReLU()(c7)\n",
    "c8 = Conv2D(filters=64, kernel_size=(1,1), padding='same')(mod)\n",
    "c8 = ReLU()(c8)\n",
    "c9 = Conv2D(filters=64, kernel_size=(1,1), padding='same')(mod)\n",
    "c9 = ReLU()(c9)\n",
    "c10 = Conv2D(filters=92, kernel_size=(1,1), padding='same')(c7)\n",
    "c10 = ReLU()(c10)\n",
    "c11 = Conv2D(filters=92, kernel_size=(3,3), padding='same')(c7)\n",
    "c11 = ReLU()(c11)\n",
    "c12 = Conv2D(filters=92, kernel_size=(5,5), padding='same')(c8)\n",
    "c12 = ReLU()(c12)\n",
    "p2 = AveragePooling2D(pool_size=(1, 1))(c9)\n",
    "mod = concatenate([c10,c11,c12,p2])\n",
    "mod = AveragePooling2D(pool_size=(2, 2))(mod)\n",
    "\n",
    "c13 = Conv2D(filters=92, kernel_size=(1,1), padding='same')(mod)\n",
    "c13 = ReLU()(c13)\n",
    "c14 = Conv2D(filters=92, kernel_size=(1,1), padding='same')(mod)\n",
    "c14 = ReLU()(c14)\n",
    "c15 = Conv2D(filters=92, kernel_size=(1,1), padding='same')(mod)\n",
    "c15 = ReLU()(c15)\n",
    "c16 = Conv2D(filters=128, kernel_size=(1,1), padding='same')(c13)\n",
    "c16 = ReLU()(c16)\n",
    "c17 = Conv2D(filters=128, kernel_size=(3,3), padding='same')(c13)\n",
    "c17 = ReLU()(c17)\n",
    "c18 = Conv2D(filters=128, kernel_size=(5,5), padding='same')(c14)\n",
    "c18 = ReLU()(c18)\n",
    "p3 = AveragePooling2D(pool_size=(1, 1))(c15)\n",
    "mod = concatenate([c16,c17,c18,p3])\n",
    "\n",
    "c19 = Conv2D(filters=92, kernel_size=(1,1), padding='same')(mod)\n",
    "c19 = ReLU()(c19)\n",
    "c20 = Conv2D(filters=92, kernel_size=(1,1), padding='same')(mod)\n",
    "c20 = ReLU()(c20)\n",
    "c21 = Conv2D(filters=92, kernel_size=(1,1), padding='same')(mod)\n",
    "c21 = ReLU()(c21)\n",
    "c22 = Conv2D(filters=128, kernel_size=(1,1), padding='same')(c19)\n",
    "c22 = ReLU()(c22)\n",
    "c23 = Conv2D(filters=128, kernel_size=(3,3), padding='same')(c19)\n",
    "c23 = ReLU()(c23)\n",
    "c24 = Conv2D(filters=128, kernel_size=(5,5), padding='same')(c20)\n",
    "c24 = ReLU()(c24)\n",
    "p4 = AveragePooling2D(pool_size=(1, 1))(c21)\n",
    "mod = concatenate([c22,c23,c24,p4])\n",
    "mod = AveragePooling2D(pool_size=(2, 2))(mod)\n",
    "\n",
    "c25 = Conv2D(filters=92, kernel_size=(1,1), padding='same')(mod)\n",
    "c25 = ReLU()(c25)\n",
    "c26 = Conv2D(filters=92, kernel_size=(1,1), padding='same')(mod)\n",
    "c26 = ReLU()(c26)\n",
    "c27 = Conv2D(filters=128, kernel_size=(1,1), padding='same')(mod)\n",
    "c27 = ReLU()(c27)\n",
    "c28 = Conv2D(filters=128, kernel_size=(3,3), padding='same')(c25)\n",
    "c28 = ReLU()(c28)\n",
    "p5 = AveragePooling2D(pool_size=(1, 1))(c26)\n",
    "mod = concatenate([c27,c28,p5])\n",
    "mod = Flatten()(mod)    # Flatten the output to feed into Dense layers\n",
    "mod = Dense(1024)(mod)\n",
    "mod = Dense(1024)(mod)\n",
    "out_layer = Dense(3, activation=\"softmax\")(mod)"
   ]
  },
  {
   "cell_type": "code",
   "execution_count": 77,
   "id": "2dbdcf49-e866-4f08-b0a6-5d5f3ad629ab",
   "metadata": {},
   "outputs": [],
   "source": [
    "model = tf.keras.Model(inputs=inp_layer, outputs=out_layer)\n",
    "model.compile(optimizer='adam', loss=\"categorical_crossentropy\", metrics=[\"accuracy\"])"
   ]
  },
  {
   "cell_type": "code",
   "execution_count": 79,
   "id": "33cd5af9-6768-4e3a-ade5-aa01f9547b9e",
   "metadata": {},
   "outputs": [],
   "source": [
    "datagen = ImageDataGenerator(\n",
    "        rotation_range=180,\n",
    "        width_shift_range=0.1,\n",
    "        height_shift_range=0.1,\n",
    "        horizontal_flip=True,\n",
    "        vertical_flip=True)\n",
    "datagen.fit(X_train)"
   ]
  },
  {
   "cell_type": "code",
   "execution_count": 81,
   "id": "25b1da66-02d7-415f-b1a6-84f22bd5cb8a",
   "metadata": {},
   "outputs": [],
   "source": [
    "es = EarlyStopping(monitor='val_loss', verbose=1, patience=30, restore_best_weights=True)"
   ]
  },
  {
   "cell_type": "code",
   "execution_count": 24,
   "id": "9e0d3dea-63ed-4718-81af-d0bfe44d7054",
   "metadata": {},
   "outputs": [
    {
     "name": "stderr",
     "output_type": "stream",
     "text": [
      "C:\\Users\\omcch\\anaconda3\\Lib\\site-packages\\keras\\src\\legacy\\preprocessing\\image.py:619: UserWarning: NumpyArrayIterator is set to use the data format convention \"channels_last\" (channels on axis 3), i.e. expected either 1, 3, or 4 channels on axis 3. However, it was passed an array with shape (101999, 32, 32, 5) (5 channels).\n",
      "  warnings.warn(\n"
     ]
    },
    {
     "name": "stdout",
     "output_type": "stream",
     "text": [
      "Epoch 1/300\n"
     ]
    },
    {
     "name": "stderr",
     "output_type": "stream",
     "text": [
      "C:\\Users\\omcch\\anaconda3\\Lib\\site-packages\\keras\\src\\trainers\\data_adapters\\py_dataset_adapter.py:122: UserWarning: Your `PyDataset` class should call `super().__init__(**kwargs)` in its constructor. `**kwargs` can include `workers`, `use_multiprocessing`, `max_queue_size`. Do not pass these arguments to `fit()`, as they will be ignored.\n",
      "  self._warn_if_super_not_called()\n"
     ]
    },
    {
     "name": "stdout",
     "output_type": "stream",
     "text": [
      "\u001b[1m  2/200\u001b[0m \u001b[37m━━━━━━━━━━━━━━━━━━━━\u001b[0m \u001b[1m1:08:44\u001b[0m 21s/step - accuracy: 0.3511 - loss: 1.2309"
     ]
    },
    {
     "ename": "KeyboardInterrupt",
     "evalue": "",
     "output_type": "error",
     "traceback": [
      "\u001b[1;31m---------------------------------------------------------------------------\u001b[0m",
      "\u001b[1;31mKeyboardInterrupt\u001b[0m                         Traceback (most recent call last)",
      "Cell \u001b[1;32mIn[24], line 1\u001b[0m\n\u001b[1;32m----> 1\u001b[0m history \u001b[38;5;241m=\u001b[39m model\u001b[38;5;241m.\u001b[39mfit(datagen\u001b[38;5;241m.\u001b[39mflow(X_train, y_train, batch_size\u001b[38;5;241m=\u001b[39m\u001b[38;5;241m512\u001b[39m),\n\u001b[0;32m      2\u001b[0m                     epochs\u001b[38;5;241m=\u001b[39m\u001b[38;5;241m300\u001b[39m, validation_data\u001b[38;5;241m=\u001b[39m(X_val, y_val),\n\u001b[0;32m      3\u001b[0m                     callbacks\u001b[38;5;241m=\u001b[39m[es],\n\u001b[0;32m      4\u001b[0m                     verbose\u001b[38;5;241m=\u001b[39m\u001b[38;5;241m1\u001b[39m)\n",
      "File \u001b[1;32m~\\anaconda3\\Lib\\site-packages\\keras\\src\\utils\\traceback_utils.py:117\u001b[0m, in \u001b[0;36mfilter_traceback.<locals>.error_handler\u001b[1;34m(*args, **kwargs)\u001b[0m\n\u001b[0;32m    115\u001b[0m filtered_tb \u001b[38;5;241m=\u001b[39m \u001b[38;5;28;01mNone\u001b[39;00m\n\u001b[0;32m    116\u001b[0m \u001b[38;5;28;01mtry\u001b[39;00m:\n\u001b[1;32m--> 117\u001b[0m     \u001b[38;5;28;01mreturn\u001b[39;00m fn(\u001b[38;5;241m*\u001b[39margs, \u001b[38;5;241m*\u001b[39m\u001b[38;5;241m*\u001b[39mkwargs)\n\u001b[0;32m    118\u001b[0m \u001b[38;5;28;01mexcept\u001b[39;00m \u001b[38;5;167;01mException\u001b[39;00m \u001b[38;5;28;01mas\u001b[39;00m e:\n\u001b[0;32m    119\u001b[0m     filtered_tb \u001b[38;5;241m=\u001b[39m _process_traceback_frames(e\u001b[38;5;241m.\u001b[39m__traceback__)\n",
      "File \u001b[1;32m~\\anaconda3\\Lib\\site-packages\\keras\\src\\backend\\tensorflow\\trainer.py:320\u001b[0m, in \u001b[0;36mTensorFlowTrainer.fit\u001b[1;34m(self, x, y, batch_size, epochs, verbose, callbacks, validation_split, validation_data, shuffle, class_weight, sample_weight, initial_epoch, steps_per_epoch, validation_steps, validation_batch_size, validation_freq)\u001b[0m\n\u001b[0;32m    318\u001b[0m \u001b[38;5;28;01mfor\u001b[39;00m step, iterator \u001b[38;5;129;01min\u001b[39;00m epoch_iterator\u001b[38;5;241m.\u001b[39menumerate_epoch():\n\u001b[0;32m    319\u001b[0m     callbacks\u001b[38;5;241m.\u001b[39mon_train_batch_begin(step)\n\u001b[1;32m--> 320\u001b[0m     logs \u001b[38;5;241m=\u001b[39m \u001b[38;5;28mself\u001b[39m\u001b[38;5;241m.\u001b[39mtrain_function(iterator)\n\u001b[0;32m    321\u001b[0m     logs \u001b[38;5;241m=\u001b[39m \u001b[38;5;28mself\u001b[39m\u001b[38;5;241m.\u001b[39m_pythonify_logs(logs)\n\u001b[0;32m    322\u001b[0m     callbacks\u001b[38;5;241m.\u001b[39mon_train_batch_end(step, logs)\n",
      "File \u001b[1;32m~\\anaconda3\\Lib\\site-packages\\tensorflow\\python\\util\\traceback_utils.py:150\u001b[0m, in \u001b[0;36mfilter_traceback.<locals>.error_handler\u001b[1;34m(*args, **kwargs)\u001b[0m\n\u001b[0;32m    148\u001b[0m filtered_tb \u001b[38;5;241m=\u001b[39m \u001b[38;5;28;01mNone\u001b[39;00m\n\u001b[0;32m    149\u001b[0m \u001b[38;5;28;01mtry\u001b[39;00m:\n\u001b[1;32m--> 150\u001b[0m   \u001b[38;5;28;01mreturn\u001b[39;00m fn(\u001b[38;5;241m*\u001b[39margs, \u001b[38;5;241m*\u001b[39m\u001b[38;5;241m*\u001b[39mkwargs)\n\u001b[0;32m    151\u001b[0m \u001b[38;5;28;01mexcept\u001b[39;00m \u001b[38;5;167;01mException\u001b[39;00m \u001b[38;5;28;01mas\u001b[39;00m e:\n\u001b[0;32m    152\u001b[0m   filtered_tb \u001b[38;5;241m=\u001b[39m _process_traceback_frames(e\u001b[38;5;241m.\u001b[39m__traceback__)\n",
      "File \u001b[1;32m~\\anaconda3\\Lib\\site-packages\\tensorflow\\python\\eager\\polymorphic_function\\polymorphic_function.py:833\u001b[0m, in \u001b[0;36mFunction.__call__\u001b[1;34m(self, *args, **kwds)\u001b[0m\n\u001b[0;32m    830\u001b[0m compiler \u001b[38;5;241m=\u001b[39m \u001b[38;5;124m\"\u001b[39m\u001b[38;5;124mxla\u001b[39m\u001b[38;5;124m\"\u001b[39m \u001b[38;5;28;01mif\u001b[39;00m \u001b[38;5;28mself\u001b[39m\u001b[38;5;241m.\u001b[39m_jit_compile \u001b[38;5;28;01melse\u001b[39;00m \u001b[38;5;124m\"\u001b[39m\u001b[38;5;124mnonXla\u001b[39m\u001b[38;5;124m\"\u001b[39m\n\u001b[0;32m    832\u001b[0m \u001b[38;5;28;01mwith\u001b[39;00m OptionalXlaContext(\u001b[38;5;28mself\u001b[39m\u001b[38;5;241m.\u001b[39m_jit_compile):\n\u001b[1;32m--> 833\u001b[0m   result \u001b[38;5;241m=\u001b[39m \u001b[38;5;28mself\u001b[39m\u001b[38;5;241m.\u001b[39m_call(\u001b[38;5;241m*\u001b[39margs, \u001b[38;5;241m*\u001b[39m\u001b[38;5;241m*\u001b[39mkwds)\n\u001b[0;32m    835\u001b[0m new_tracing_count \u001b[38;5;241m=\u001b[39m \u001b[38;5;28mself\u001b[39m\u001b[38;5;241m.\u001b[39mexperimental_get_tracing_count()\n\u001b[0;32m    836\u001b[0m without_tracing \u001b[38;5;241m=\u001b[39m (tracing_count \u001b[38;5;241m==\u001b[39m new_tracing_count)\n",
      "File \u001b[1;32m~\\anaconda3\\Lib\\site-packages\\tensorflow\\python\\eager\\polymorphic_function\\polymorphic_function.py:878\u001b[0m, in \u001b[0;36mFunction._call\u001b[1;34m(self, *args, **kwds)\u001b[0m\n\u001b[0;32m    875\u001b[0m \u001b[38;5;28mself\u001b[39m\u001b[38;5;241m.\u001b[39m_lock\u001b[38;5;241m.\u001b[39mrelease()\n\u001b[0;32m    876\u001b[0m \u001b[38;5;66;03m# In this case we have not created variables on the first call. So we can\u001b[39;00m\n\u001b[0;32m    877\u001b[0m \u001b[38;5;66;03m# run the first trace but we should fail if variables are created.\u001b[39;00m\n\u001b[1;32m--> 878\u001b[0m results \u001b[38;5;241m=\u001b[39m tracing_compilation\u001b[38;5;241m.\u001b[39mcall_function(\n\u001b[0;32m    879\u001b[0m     args, kwds, \u001b[38;5;28mself\u001b[39m\u001b[38;5;241m.\u001b[39m_variable_creation_config\n\u001b[0;32m    880\u001b[0m )\n\u001b[0;32m    881\u001b[0m \u001b[38;5;28;01mif\u001b[39;00m \u001b[38;5;28mself\u001b[39m\u001b[38;5;241m.\u001b[39m_created_variables:\n\u001b[0;32m    882\u001b[0m   \u001b[38;5;28;01mraise\u001b[39;00m \u001b[38;5;167;01mValueError\u001b[39;00m(\u001b[38;5;124m\"\u001b[39m\u001b[38;5;124mCreating variables on a non-first call to a function\u001b[39m\u001b[38;5;124m\"\u001b[39m\n\u001b[0;32m    883\u001b[0m                    \u001b[38;5;124m\"\u001b[39m\u001b[38;5;124m decorated with tf.function.\u001b[39m\u001b[38;5;124m\"\u001b[39m)\n",
      "File \u001b[1;32m~\\anaconda3\\Lib\\site-packages\\tensorflow\\python\\eager\\polymorphic_function\\tracing_compilation.py:139\u001b[0m, in \u001b[0;36mcall_function\u001b[1;34m(args, kwargs, tracing_options)\u001b[0m\n\u001b[0;32m    137\u001b[0m bound_args \u001b[38;5;241m=\u001b[39m function\u001b[38;5;241m.\u001b[39mfunction_type\u001b[38;5;241m.\u001b[39mbind(\u001b[38;5;241m*\u001b[39margs, \u001b[38;5;241m*\u001b[39m\u001b[38;5;241m*\u001b[39mkwargs)\n\u001b[0;32m    138\u001b[0m flat_inputs \u001b[38;5;241m=\u001b[39m function\u001b[38;5;241m.\u001b[39mfunction_type\u001b[38;5;241m.\u001b[39munpack_inputs(bound_args)\n\u001b[1;32m--> 139\u001b[0m \u001b[38;5;28;01mreturn\u001b[39;00m function\u001b[38;5;241m.\u001b[39m_call_flat(  \u001b[38;5;66;03m# pylint: disable=protected-access\u001b[39;00m\n\u001b[0;32m    140\u001b[0m     flat_inputs, captured_inputs\u001b[38;5;241m=\u001b[39mfunction\u001b[38;5;241m.\u001b[39mcaptured_inputs\n\u001b[0;32m    141\u001b[0m )\n",
      "File \u001b[1;32m~\\anaconda3\\Lib\\site-packages\\tensorflow\\python\\eager\\polymorphic_function\\concrete_function.py:1322\u001b[0m, in \u001b[0;36mConcreteFunction._call_flat\u001b[1;34m(self, tensor_inputs, captured_inputs)\u001b[0m\n\u001b[0;32m   1318\u001b[0m possible_gradient_type \u001b[38;5;241m=\u001b[39m gradients_util\u001b[38;5;241m.\u001b[39mPossibleTapeGradientTypes(args)\n\u001b[0;32m   1319\u001b[0m \u001b[38;5;28;01mif\u001b[39;00m (possible_gradient_type \u001b[38;5;241m==\u001b[39m gradients_util\u001b[38;5;241m.\u001b[39mPOSSIBLE_GRADIENT_TYPES_NONE\n\u001b[0;32m   1320\u001b[0m     \u001b[38;5;129;01mand\u001b[39;00m executing_eagerly):\n\u001b[0;32m   1321\u001b[0m   \u001b[38;5;66;03m# No tape is watching; skip to running the function.\u001b[39;00m\n\u001b[1;32m-> 1322\u001b[0m   \u001b[38;5;28;01mreturn\u001b[39;00m \u001b[38;5;28mself\u001b[39m\u001b[38;5;241m.\u001b[39m_inference_function\u001b[38;5;241m.\u001b[39mcall_preflattened(args)\n\u001b[0;32m   1323\u001b[0m forward_backward \u001b[38;5;241m=\u001b[39m \u001b[38;5;28mself\u001b[39m\u001b[38;5;241m.\u001b[39m_select_forward_and_backward_functions(\n\u001b[0;32m   1324\u001b[0m     args,\n\u001b[0;32m   1325\u001b[0m     possible_gradient_type,\n\u001b[0;32m   1326\u001b[0m     executing_eagerly)\n\u001b[0;32m   1327\u001b[0m forward_function, args_with_tangents \u001b[38;5;241m=\u001b[39m forward_backward\u001b[38;5;241m.\u001b[39mforward()\n",
      "File \u001b[1;32m~\\anaconda3\\Lib\\site-packages\\tensorflow\\python\\eager\\polymorphic_function\\atomic_function.py:216\u001b[0m, in \u001b[0;36mAtomicFunction.call_preflattened\u001b[1;34m(self, args)\u001b[0m\n\u001b[0;32m    214\u001b[0m \u001b[38;5;28;01mdef\u001b[39;00m \u001b[38;5;21mcall_preflattened\u001b[39m(\u001b[38;5;28mself\u001b[39m, args: Sequence[core\u001b[38;5;241m.\u001b[39mTensor]) \u001b[38;5;241m-\u001b[39m\u001b[38;5;241m>\u001b[39m Any:\n\u001b[0;32m    215\u001b[0m \u001b[38;5;250m  \u001b[39m\u001b[38;5;124;03m\"\"\"Calls with flattened tensor inputs and returns the structured output.\"\"\"\u001b[39;00m\n\u001b[1;32m--> 216\u001b[0m   flat_outputs \u001b[38;5;241m=\u001b[39m \u001b[38;5;28mself\u001b[39m\u001b[38;5;241m.\u001b[39mcall_flat(\u001b[38;5;241m*\u001b[39margs)\n\u001b[0;32m    217\u001b[0m   \u001b[38;5;28;01mreturn\u001b[39;00m \u001b[38;5;28mself\u001b[39m\u001b[38;5;241m.\u001b[39mfunction_type\u001b[38;5;241m.\u001b[39mpack_output(flat_outputs)\n",
      "File \u001b[1;32m~\\anaconda3\\Lib\\site-packages\\tensorflow\\python\\eager\\polymorphic_function\\atomic_function.py:251\u001b[0m, in \u001b[0;36mAtomicFunction.call_flat\u001b[1;34m(self, *args)\u001b[0m\n\u001b[0;32m    249\u001b[0m \u001b[38;5;28;01mwith\u001b[39;00m record\u001b[38;5;241m.\u001b[39mstop_recording():\n\u001b[0;32m    250\u001b[0m   \u001b[38;5;28;01mif\u001b[39;00m \u001b[38;5;28mself\u001b[39m\u001b[38;5;241m.\u001b[39m_bound_context\u001b[38;5;241m.\u001b[39mexecuting_eagerly():\n\u001b[1;32m--> 251\u001b[0m     outputs \u001b[38;5;241m=\u001b[39m \u001b[38;5;28mself\u001b[39m\u001b[38;5;241m.\u001b[39m_bound_context\u001b[38;5;241m.\u001b[39mcall_function(\n\u001b[0;32m    252\u001b[0m         \u001b[38;5;28mself\u001b[39m\u001b[38;5;241m.\u001b[39mname,\n\u001b[0;32m    253\u001b[0m         \u001b[38;5;28mlist\u001b[39m(args),\n\u001b[0;32m    254\u001b[0m         \u001b[38;5;28mlen\u001b[39m(\u001b[38;5;28mself\u001b[39m\u001b[38;5;241m.\u001b[39mfunction_type\u001b[38;5;241m.\u001b[39mflat_outputs),\n\u001b[0;32m    255\u001b[0m     )\n\u001b[0;32m    256\u001b[0m   \u001b[38;5;28;01melse\u001b[39;00m:\n\u001b[0;32m    257\u001b[0m     outputs \u001b[38;5;241m=\u001b[39m make_call_op_in_graph(\n\u001b[0;32m    258\u001b[0m         \u001b[38;5;28mself\u001b[39m,\n\u001b[0;32m    259\u001b[0m         \u001b[38;5;28mlist\u001b[39m(args),\n\u001b[0;32m    260\u001b[0m         \u001b[38;5;28mself\u001b[39m\u001b[38;5;241m.\u001b[39m_bound_context\u001b[38;5;241m.\u001b[39mfunction_call_options\u001b[38;5;241m.\u001b[39mas_attrs(),\n\u001b[0;32m    261\u001b[0m     )\n",
      "File \u001b[1;32m~\\anaconda3\\Lib\\site-packages\\tensorflow\\python\\eager\\context.py:1552\u001b[0m, in \u001b[0;36mContext.call_function\u001b[1;34m(self, name, tensor_inputs, num_outputs)\u001b[0m\n\u001b[0;32m   1550\u001b[0m cancellation_context \u001b[38;5;241m=\u001b[39m cancellation\u001b[38;5;241m.\u001b[39mcontext()\n\u001b[0;32m   1551\u001b[0m \u001b[38;5;28;01mif\u001b[39;00m cancellation_context \u001b[38;5;129;01mis\u001b[39;00m \u001b[38;5;28;01mNone\u001b[39;00m:\n\u001b[1;32m-> 1552\u001b[0m   outputs \u001b[38;5;241m=\u001b[39m execute\u001b[38;5;241m.\u001b[39mexecute(\n\u001b[0;32m   1553\u001b[0m       name\u001b[38;5;241m.\u001b[39mdecode(\u001b[38;5;124m\"\u001b[39m\u001b[38;5;124mutf-8\u001b[39m\u001b[38;5;124m\"\u001b[39m),\n\u001b[0;32m   1554\u001b[0m       num_outputs\u001b[38;5;241m=\u001b[39mnum_outputs,\n\u001b[0;32m   1555\u001b[0m       inputs\u001b[38;5;241m=\u001b[39mtensor_inputs,\n\u001b[0;32m   1556\u001b[0m       attrs\u001b[38;5;241m=\u001b[39mattrs,\n\u001b[0;32m   1557\u001b[0m       ctx\u001b[38;5;241m=\u001b[39m\u001b[38;5;28mself\u001b[39m,\n\u001b[0;32m   1558\u001b[0m   )\n\u001b[0;32m   1559\u001b[0m \u001b[38;5;28;01melse\u001b[39;00m:\n\u001b[0;32m   1560\u001b[0m   outputs \u001b[38;5;241m=\u001b[39m execute\u001b[38;5;241m.\u001b[39mexecute_with_cancellation(\n\u001b[0;32m   1561\u001b[0m       name\u001b[38;5;241m.\u001b[39mdecode(\u001b[38;5;124m\"\u001b[39m\u001b[38;5;124mutf-8\u001b[39m\u001b[38;5;124m\"\u001b[39m),\n\u001b[0;32m   1562\u001b[0m       num_outputs\u001b[38;5;241m=\u001b[39mnum_outputs,\n\u001b[1;32m   (...)\u001b[0m\n\u001b[0;32m   1566\u001b[0m       cancellation_manager\u001b[38;5;241m=\u001b[39mcancellation_context,\n\u001b[0;32m   1567\u001b[0m   )\n",
      "File \u001b[1;32m~\\anaconda3\\Lib\\site-packages\\tensorflow\\python\\eager\\execute.py:53\u001b[0m, in \u001b[0;36mquick_execute\u001b[1;34m(op_name, num_outputs, inputs, attrs, ctx, name)\u001b[0m\n\u001b[0;32m     51\u001b[0m \u001b[38;5;28;01mtry\u001b[39;00m:\n\u001b[0;32m     52\u001b[0m   ctx\u001b[38;5;241m.\u001b[39mensure_initialized()\n\u001b[1;32m---> 53\u001b[0m   tensors \u001b[38;5;241m=\u001b[39m pywrap_tfe\u001b[38;5;241m.\u001b[39mTFE_Py_Execute(ctx\u001b[38;5;241m.\u001b[39m_handle, device_name, op_name,\n\u001b[0;32m     54\u001b[0m                                       inputs, attrs, num_outputs)\n\u001b[0;32m     55\u001b[0m \u001b[38;5;28;01mexcept\u001b[39;00m core\u001b[38;5;241m.\u001b[39m_NotOkStatusException \u001b[38;5;28;01mas\u001b[39;00m e:\n\u001b[0;32m     56\u001b[0m   \u001b[38;5;28;01mif\u001b[39;00m name \u001b[38;5;129;01mis\u001b[39;00m \u001b[38;5;129;01mnot\u001b[39;00m \u001b[38;5;28;01mNone\u001b[39;00m:\n",
      "\u001b[1;31mKeyboardInterrupt\u001b[0m: "
     ]
    }
   ],
   "source": [
    "history = model.fit(datagen.flow(X_train, y_train, batch_size=512),\n",
    "                    epochs=300, validation_data=(X_val, y_val),\n",
    "                    callbacks=[es],\n",
    "                    verbose=1)"
   ]
  },
  {
   "cell_type": "code",
   "execution_count": null,
   "id": "890e2b2c-7225-4043-a7e8-72b7fa232b7f",
   "metadata": {},
   "outputs": [],
   "source": [
    "model.save(\"output/CNNClassifier.h5\")"
   ]
  },
  {
   "cell_type": "code",
   "execution_count": null,
   "id": "15b80cae-e2f0-4ac9-93e8-6d1a027e4d59",
   "metadata": {},
   "outputs": [],
   "source": [
    "tf.keras.utils.plot_model(model, \"output/CNNMod.pdf\", show_shapes=True)"
   ]
  },
  {
   "cell_type": "code",
   "execution_count": null,
   "id": "7b88dafd-21c0-421c-a4ac-92ad61863af0",
   "metadata": {},
   "outputs": [],
   "source": [
    "plt.figure()\n",
    "plt.plot(history.history['accuracy'], label=\"Training Accuracy\")\n",
    "plt.plot(history.history['val_accuracy'], label=\"Validation Accuracy\")\n",
    "plt.title('Model Accuracy')\n",
    "plt.ylabel('Accuracy')\n",
    "plt.xlabel('Epoch')\n",
    "plt.legend()\n",
    "plt.savefig(\"output/CNNTraining.pdf\")\n",
    "plt.show()"
   ]
  },
  {
   "cell_type": "code",
   "execution_count": null,
   "id": "ef17d656-56b2-4bdd-b159-2748a69fa2c3",
   "metadata": {},
   "outputs": [],
   "source": [
    "plt.figure()\n",
    "plt.plot(history.history['loss'], label=\"Training Loss\")\n",
    "plt.plot(history.history['val_loss'], label=\"Validation Loss\")\n",
    "plt.title('Model Loss')\n",
    "plt.ylabel('Loss')\n",
    "plt.xlabel('Epoch')\n",
    "plt.legend()\n",
    "plt.savefig(\"output/CNNLoss.pdf\")\n",
    "plt.show()"
   ]
  },
  {
   "cell_type": "code",
   "execution_count": null,
   "id": "785b17f7-aa9b-4fda-bd68-283d4ad22290",
   "metadata": {},
   "outputs": [],
   "source": [
    "preds_test = model.predict(X_test, batch_size=1024, verbose=0)"
   ]
  },
  {
   "cell_type": "code",
   "execution_count": null,
   "id": "f043dcff-93ec-4525-bced-c146ea032c48",
   "metadata": {},
   "outputs": [],
   "source": [
    "print(get_metrics(preds_test.argmax(axis=1), y_test.argmax(axis=1), label_strings))"
   ]
  },
  {
   "cell_type": "code",
   "execution_count": null,
   "id": "91b45614-c959-474d-b4e9-ccbce71b789f",
   "metadata": {},
   "outputs": [],
   "source": [
    "cm = metrics.confusion_matrix(preds_test.argmax(axis=1), y_test.argmax(axis=1), normalize='true')\n",
    "df_cm = pd.DataFrame(cm, index=label_strings, columns=label_strings)\n",
    "plt.figure(figsize=(10, 7))\n",
    "sns.heatmap(df_cm, annot=True, cmap=\"Blues\", square=True, fmt='.2%')\n",
    "plt.savefig(\"output/cnn_cm.pdf\")"
   ]
  }
 ],
 "metadata": {
  "kernelspec": {
   "display_name": "Python 3 (ipykernel)",
   "language": "python",
   "name": "python3"
  },
  "language_info": {
   "codemirror_mode": {
    "name": "ipython",
    "version": 3
   },
   "file_extension": ".py",
   "mimetype": "text/x-python",
   "name": "python",
   "nbconvert_exporter": "python",
   "pygments_lexer": "ipython3",
   "version": "3.12.4"
  }
 },
 "nbformat": 4,
 "nbformat_minor": 5
}
