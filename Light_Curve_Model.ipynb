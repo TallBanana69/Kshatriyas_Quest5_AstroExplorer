{
 "cells": [
  {
   "cell_type": "code",
   "execution_count": 58,
   "id": "6556f8fc-d807-4482-8a7a-c837d311b9ff",
   "metadata": {},
   "outputs": [],
   "source": [
    "import pandas as pd\n",
    "import numpy as np\n",
    "import matplotlib.pyplot as plt\n",
    "from sklearn.preprocessing import LabelEncoder\n",
    "from sklearn.model_selection import train_test_split\n",
    "from sklearn.metrics import classification_report, accuracy_score\n",
    "from tensorflow.keras.models import Model\n",
    "from tensorflow.keras.layers import Conv1D, MaxPooling1D, Flatten, Dense, Dropout, Input, Concatenate\n",
    "from tensorflow.keras.utils import to_categorical\n",
    "from sklearn.metrics import classification_report, confusion_matrix, ConfusionMatrixDisplay\n",
    "import tensorflow as tf\n",
    "from tensorflow.keras.models import Sequential\n",
    "from tensorflow.keras.layers import LSTM, Dense, Dropout\n",
    "from tensorflow.keras.callbacks import EarlyStopping"
   ]
  },
  {
   "cell_type": "markdown",
   "id": "4b486c68-e17a-480e-b69f-74db5a6013c5",
   "metadata": {},
   "source": [
    "Preprocessing Data"
   ]
  },
  {
   "cell_type": "code",
   "execution_count": 3,
   "id": "ea11ccef-3ec7-49a0-abbf-28a4576941e1",
   "metadata": {},
   "outputs": [],
   "source": [
    "df = pd.read_csv(r'E:/LightCurve/combined_light_curve_data.csv')"
   ]
  },
  {
   "cell_type": "code",
   "execution_count": 4,
   "id": "9f0027e9-8378-4387-9f1d-9f94ecebdec3",
   "metadata": {},
   "outputs": [
    {
     "data": {
      "text/html": [
       "<div>\n",
       "<style scoped>\n",
       "    .dataframe tbody tr th:only-of-type {\n",
       "        vertical-align: middle;\n",
       "    }\n",
       "\n",
       "    .dataframe tbody tr th {\n",
       "        vertical-align: top;\n",
       "    }\n",
       "\n",
       "    .dataframe thead th {\n",
       "        text-align: right;\n",
       "    }\n",
       "</style>\n",
       "<table border=\"1\" class=\"dataframe\">\n",
       "  <thead>\n",
       "    <tr style=\"text-align: right;\">\n",
       "      <th></th>\n",
       "      <th>label</th>\n",
       "      <th>mjd</th>\n",
       "      <th>flux</th>\n",
       "      <th>flux_error</th>\n",
       "    </tr>\n",
       "  </thead>\n",
       "  <tbody>\n",
       "    <tr>\n",
       "      <th>0</th>\n",
       "      <td>Classical_Cepheids</td>\n",
       "      <td>[5265.81251, 5266.79609, 5267.78687, 5268.8263...</td>\n",
       "      <td>[17.417, 17.628, 17.246, 17.521, 17.335, 17.36...</td>\n",
       "      <td>[0.011, 0.014, 0.01, 0.012, 0.011, 0.011, 0.01...</td>\n",
       "    </tr>\n",
       "    <tr>\n",
       "      <th>1</th>\n",
       "      <td>Classical_Cepheids</td>\n",
       "      <td>[5265.83399, 5272.77925, 5275.89946, 5279.7655...</td>\n",
       "      <td>[15.773, 16.047, 15.755, 15.658, 16.02, 15.615...</td>\n",
       "      <td>[0.007, 0.008, 0.007, 0.007, 0.008, 0.007, 0.0...</td>\n",
       "    </tr>\n",
       "    <tr>\n",
       "      <th>2</th>\n",
       "      <td>Classical_Cepheids</td>\n",
       "      <td>[5265.84446, 5268.8799, 5272.78972, 5275.90995...</td>\n",
       "      <td>[16.463, 16.356, 16.474, 16.412, 16.371, 16.43...</td>\n",
       "      <td>[0.008, 0.007, 0.008, 0.007, 0.008, 0.008, 0.0...</td>\n",
       "    </tr>\n",
       "    <tr>\n",
       "      <th>3</th>\n",
       "      <td>Classical_Cepheids</td>\n",
       "      <td>[5264.841, 5268.77925, 5271.77332, 5273.7826, ...</td>\n",
       "      <td>[16.142, 16.173, 16.194, 16.123, 16.19, 16.227...</td>\n",
       "      <td>[0.007, 0.008, 0.007, 0.006, 0.007, 0.007, 0.0...</td>\n",
       "    </tr>\n",
       "    <tr>\n",
       "      <th>4</th>\n",
       "      <td>Classical_Cepheids</td>\n",
       "      <td>[5265.85454, 5270.78161, 5272.90171, 5276.8403...</td>\n",
       "      <td>[16.597, 16.629, 16.327, 16.635, 16.462, 16.43...</td>\n",
       "      <td>[0.008, 0.008, 0.007, 0.008, 0.007, 0.008, 0.0...</td>\n",
       "    </tr>\n",
       "  </tbody>\n",
       "</table>\n",
       "</div>"
      ],
      "text/plain": [
       "                label                                                mjd  \\\n",
       "0  Classical_Cepheids  [5265.81251, 5266.79609, 5267.78687, 5268.8263...   \n",
       "1  Classical_Cepheids  [5265.83399, 5272.77925, 5275.89946, 5279.7655...   \n",
       "2  Classical_Cepheids  [5265.84446, 5268.8799, 5272.78972, 5275.90995...   \n",
       "3  Classical_Cepheids  [5264.841, 5268.77925, 5271.77332, 5273.7826, ...   \n",
       "4  Classical_Cepheids  [5265.85454, 5270.78161, 5272.90171, 5276.8403...   \n",
       "\n",
       "                                                flux  \\\n",
       "0  [17.417, 17.628, 17.246, 17.521, 17.335, 17.36...   \n",
       "1  [15.773, 16.047, 15.755, 15.658, 16.02, 15.615...   \n",
       "2  [16.463, 16.356, 16.474, 16.412, 16.371, 16.43...   \n",
       "3  [16.142, 16.173, 16.194, 16.123, 16.19, 16.227...   \n",
       "4  [16.597, 16.629, 16.327, 16.635, 16.462, 16.43...   \n",
       "\n",
       "                                          flux_error  \n",
       "0  [0.011, 0.014, 0.01, 0.012, 0.011, 0.011, 0.01...  \n",
       "1  [0.007, 0.008, 0.007, 0.007, 0.008, 0.007, 0.0...  \n",
       "2  [0.008, 0.007, 0.008, 0.007, 0.008, 0.008, 0.0...  \n",
       "3  [0.007, 0.008, 0.007, 0.006, 0.007, 0.007, 0.0...  \n",
       "4  [0.008, 0.008, 0.007, 0.008, 0.007, 0.008, 0.0...  "
      ]
     },
     "execution_count": 4,
     "metadata": {},
     "output_type": "execute_result"
    }
   ],
   "source": [
    "df.head()"
   ]
  },
  {
   "cell_type": "code",
   "execution_count": 5,
   "id": "83b72cd2-98c3-4163-be2f-2230caefbb6d",
   "metadata": {},
   "outputs": [
    {
     "name": "stdout",
     "output_type": "stream",
     "text": [
      "Reduced Data Shape: (55057, 4)\n",
      "label\n",
      "Sigma_SCT             11680\n",
      "Classical_Cepheids    11622\n",
      "RR_Lyrae              10898\n",
      "Eclipsing             10551\n",
      "Miras                 10306\n",
      "Name: count, dtype: int64\n"
     ]
    }
   ],
   "source": [
    "print(\"Reduced Data Shape:\", df.shape)\n",
    "print(df['label'].value_counts())"
   ]
  },
  {
   "cell_type": "code",
   "execution_count": 6,
   "id": "e6329388-8fe0-4105-b14d-0b60dc463ca3",
   "metadata": {},
   "outputs": [
    {
     "name": "stdout",
     "output_type": "stream",
     "text": [
      "Reduced Data Shape: (37500, 4)\n",
      "label\n",
      "Classical_Cepheids    7500\n",
      "Eclipsing             7500\n",
      "Miras                 7500\n",
      "RR_Lyrae              7500\n",
      "Sigma_SCT             7500\n",
      "Name: count, dtype: int64\n"
     ]
    }
   ],
   "source": [
    "def reduce_dataset_size(df, label_column, target_size=7500):\n",
    "    reduced_dfs = []\n",
    "    \n",
    "    for label, group in df.groupby(label_column):\n",
    "        if len(group) > target_size:\n",
    "            reduced_group = group.sample(n=target_size, random_state=42)\n",
    "        else:\n",
    "            reduced_group = group\n",
    "        reduced_dfs.append(reduced_group)\n",
    "    \n",
    "    reduced_df = pd.concat(reduced_dfs).reset_index(drop=True)\n",
    "    return reduced_df\n",
    "\n",
    "\n",
    "# Reducing the dataset size because it was exceeding 32GB RAM Limit\n",
    "df = reduce_dataset_size(df, label_column='label', target_size=7500)\n",
    "\n",
    "print(\"Reduced Data Shape:\", df.shape)\n",
    "print(df['label'].value_counts())"
   ]
  },
  {
   "cell_type": "code",
   "execution_count": 22,
   "id": "a6a0e801-668a-4f7b-947a-3da15aecaf8b",
   "metadata": {},
   "outputs": [
    {
     "name": "stderr",
     "output_type": "stream",
     "text": [
      "C:\\Users\\omcch\\anaconda3\\Lib\\site-packages\\numpy\\core\\fromnumeric.py:3504: RuntimeWarning: Mean of empty slice.\n",
      "  return _methods._mean(a, axis=axis, dtype=dtype,\n",
      "C:\\Users\\omcch\\anaconda3\\Lib\\site-packages\\numpy\\core\\_methods.py:129: RuntimeWarning: invalid value encountered in scalar divide\n",
      "  ret = ret.dtype.type(ret / rcount)\n",
      "C:\\Users\\omcch\\AppData\\Local\\Temp\\ipykernel_9096\\2929671077.py:33: RuntimeWarning: invalid value encountered in divide\n",
      "  return (arr - arr_min) / (arr_max - arr_min)\n"
     ]
    },
    {
     "name": "stdout",
     "output_type": "stream",
     "text": [
      "                label                                                mjd  \\\n",
      "0  Classical_Cepheids  [0.0, 0.0010629882971039993, 0.007484489474838...   \n",
      "1  Classical_Cepheids  [0.0, 0.007460637956382153, 0.0170477737740279...   \n",
      "2  Classical_Cepheids  [0.0, 0.0006646703753508668, 0.007145225750104...   \n",
      "3  Classical_Cepheids  [0.0, 0.0015970644501540614, 0.016720759467352...   \n",
      "4  Classical_Cepheids  [0.0, 0.0007713110984454822, 0.004008365027323...   \n",
      "\n",
      "                                                flux  \\\n",
      "0  [0.5344202898550744, 0.8478260869565251, 0.751...   \n",
      "1  [0.687500000000005, 0.38636363636364, 0.062499...   \n",
      "2  [0.7771929824561393, 0.6719298245614016, 0.935...   \n",
      "3  [0.39969834087481215, 0.9577677224736014, 0.62...   \n",
      "4  [0.31365313653136756, 0.9077490774907738, 0.75...   \n",
      "\n",
      "                                          flux_error  \n",
      "0  [0.3333333333333333, 0.3333333333333333, 0.333...  \n",
      "1  [0.7500000000000001, 0.5000000000000001, 0.750...  \n",
      "2  [nan, nan, nan, nan, nan, nan, nan, nan, nan, ...  \n",
      "3  [0.16666666666666669, 0.5000000000000001, 0.50...  \n",
      "4  [0.3333333333333334, 0.3333333333333334, 0.666...  \n"
     ]
    }
   ],
   "source": [
    "# The data had all the values stored in string format. So we convert it to floats\n",
    "import numpy as np\n",
    "def convert_to_numeric(df, columns):\n",
    "    for col in columns:\n",
    "        df[col] = df[col].apply(convert_to_float_array)\n",
    "    return df\n",
    "\n",
    "def convert_to_float_array(string_array):\n",
    "    string_array = string_array.strip('[]')  # Remove the outer brackets\n",
    "    if not string_array:  # Check if the array is empty\n",
    "        return np.array([])\n",
    "    float_array = [float(val.strip().replace(',', '')) for val in string_array.split(',')]\n",
    "    return np.array(float_array, dtype=float)\n",
    "\n",
    "\n",
    "columns_to_convert = ['mjd', 'flux', 'flux_error']\n",
    "df = convert_to_numeric(df, columns_to_convert)\n",
    "\n",
    "# Function to truncate or pad arrays to a fixed size with median values\n",
    "def truncate_and_pad(arr, target_size):\n",
    "    arr_length = len(arr)\n",
    "    if arr_length > target_size:\n",
    "        return arr[:target_size]\n",
    "    else:\n",
    "        median_val = np.median(arr)\n",
    "        padding = [median_val] * (target_size - arr_length)\n",
    "        return np.concatenate((arr, padding))\n",
    "\n",
    "# Function to normalize the values of array\n",
    "def normalize(arr):\n",
    "    arr_min = np.min(arr)\n",
    "    arr_max = np.max(arr)\n",
    "    return (arr - arr_min) / (arr_max - arr_min)\n",
    "\n",
    "# Truncate or pad arrays to size 350\n",
    "target_size = 350\n",
    "\n",
    "for col in columns_to_convert:\n",
    "    df[col] = df[col].apply(lambda x: truncate_and_pad(x, target_size))\n",
    "\n",
    "#Normalize the arrays\n",
    "for col in columns_to_convert:\n",
    "    df[col] = df[col].apply(lambda x: normalize(x))\n",
    "\n",
    "print(df.head())\n"
   ]
  },
  {
   "cell_type": "code",
   "execution_count": 24,
   "id": "da6c39df-4c09-467c-a72d-a1213fb182cc",
   "metadata": {},
   "outputs": [
    {
     "data": {
      "text/html": [
       "<div>\n",
       "<style scoped>\n",
       "    .dataframe tbody tr th:only-of-type {\n",
       "        vertical-align: middle;\n",
       "    }\n",
       "\n",
       "    .dataframe tbody tr th {\n",
       "        vertical-align: top;\n",
       "    }\n",
       "\n",
       "    .dataframe thead th {\n",
       "        text-align: right;\n",
       "    }\n",
       "</style>\n",
       "<table border=\"1\" class=\"dataframe\">\n",
       "  <thead>\n",
       "    <tr style=\"text-align: right;\">\n",
       "      <th></th>\n",
       "      <th>label</th>\n",
       "      <th>mjd</th>\n",
       "      <th>flux</th>\n",
       "      <th>flux_error</th>\n",
       "    </tr>\n",
       "  </thead>\n",
       "  <tbody>\n",
       "    <tr>\n",
       "      <th>0</th>\n",
       "      <td>Classical_Cepheids</td>\n",
       "      <td>[0.0, 0.0010629882971039993, 0.007484489474838...</td>\n",
       "      <td>[0.5344202898550744, 0.8478260869565251, 0.751...</td>\n",
       "      <td>[0.3333333333333333, 0.3333333333333333, 0.333...</td>\n",
       "    </tr>\n",
       "    <tr>\n",
       "      <th>1</th>\n",
       "      <td>Classical_Cepheids</td>\n",
       "      <td>[0.0, 0.007460637956382153, 0.0170477737740279...</td>\n",
       "      <td>[0.687500000000005, 0.38636363636364, 0.062499...</td>\n",
       "      <td>[0.7500000000000001, 0.5000000000000001, 0.750...</td>\n",
       "    </tr>\n",
       "    <tr>\n",
       "      <th>2</th>\n",
       "      <td>Classical_Cepheids</td>\n",
       "      <td>[0.0, 0.0006646703753508668, 0.007145225750104...</td>\n",
       "      <td>[0.7771929824561393, 0.6719298245614016, 0.935...</td>\n",
       "      <td>[nan, nan, nan, nan, nan, nan, nan, nan, nan, ...</td>\n",
       "    </tr>\n",
       "    <tr>\n",
       "      <th>3</th>\n",
       "      <td>Classical_Cepheids</td>\n",
       "      <td>[0.0, 0.0015970644501540614, 0.016720759467352...</td>\n",
       "      <td>[0.39969834087481215, 0.9577677224736014, 0.62...</td>\n",
       "      <td>[0.16666666666666669, 0.5000000000000001, 0.50...</td>\n",
       "    </tr>\n",
       "    <tr>\n",
       "      <th>4</th>\n",
       "      <td>Classical_Cepheids</td>\n",
       "      <td>[0.0, 0.0007713110984454822, 0.004008365027323...</td>\n",
       "      <td>[0.31365313653136756, 0.9077490774907738, 0.75...</td>\n",
       "      <td>[0.3333333333333334, 0.3333333333333334, 0.666...</td>\n",
       "    </tr>\n",
       "  </tbody>\n",
       "</table>\n",
       "</div>"
      ],
      "text/plain": [
       "                label                                                mjd  \\\n",
       "0  Classical_Cepheids  [0.0, 0.0010629882971039993, 0.007484489474838...   \n",
       "1  Classical_Cepheids  [0.0, 0.007460637956382153, 0.0170477737740279...   \n",
       "2  Classical_Cepheids  [0.0, 0.0006646703753508668, 0.007145225750104...   \n",
       "3  Classical_Cepheids  [0.0, 0.0015970644501540614, 0.016720759467352...   \n",
       "4  Classical_Cepheids  [0.0, 0.0007713110984454822, 0.004008365027323...   \n",
       "\n",
       "                                                flux  \\\n",
       "0  [0.5344202898550744, 0.8478260869565251, 0.751...   \n",
       "1  [0.687500000000005, 0.38636363636364, 0.062499...   \n",
       "2  [0.7771929824561393, 0.6719298245614016, 0.935...   \n",
       "3  [0.39969834087481215, 0.9577677224736014, 0.62...   \n",
       "4  [0.31365313653136756, 0.9077490774907738, 0.75...   \n",
       "\n",
       "                                          flux_error  \n",
       "0  [0.3333333333333333, 0.3333333333333333, 0.333...  \n",
       "1  [0.7500000000000001, 0.5000000000000001, 0.750...  \n",
       "2  [nan, nan, nan, nan, nan, nan, nan, nan, nan, ...  \n",
       "3  [0.16666666666666669, 0.5000000000000001, 0.50...  \n",
       "4  [0.3333333333333334, 0.3333333333333334, 0.666...  "
      ]
     },
     "execution_count": 24,
     "metadata": {},
     "output_type": "execute_result"
    }
   ],
   "source": [
    "df.head()"
   ]
  },
  {
   "cell_type": "code",
   "execution_count": 26,
   "id": "53c2181e-f9ee-415a-89d8-280acf581027",
   "metadata": {},
   "outputs": [
    {
     "name": "stdout",
     "output_type": "stream",
     "text": [
      "                label                                                mjd  \\\n",
      "0  Classical_Cepheids  [0.0, 0.0010629882971039993, 0.007484489474838...   \n",
      "1  Classical_Cepheids  [0.0, 0.007460637956382153, 0.0170477737740279...   \n",
      "2  Classical_Cepheids  [0.0, 0.0006646703753508668, 0.007145225750104...   \n",
      "3  Classical_Cepheids  [0.0, 0.0015970644501540614, 0.016720759467352...   \n",
      "4  Classical_Cepheids  [0.0, 0.0007713110984454822, 0.004008365027323...   \n",
      "\n",
      "                                                flux  \\\n",
      "0  [0.5344202898550744, 0.8478260869565251, 0.751...   \n",
      "1  [0.687500000000005, 0.38636363636364, 0.062499...   \n",
      "2  [0.7771929824561393, 0.6719298245614016, 0.935...   \n",
      "3  [0.39969834087481215, 0.9577677224736014, 0.62...   \n",
      "4  [0.31365313653136756, 0.9077490774907738, 0.75...   \n",
      "\n",
      "                                          flux_error  label_encoded  \n",
      "0  [0.3333333333333333, 0.3333333333333333, 0.333...              0  \n",
      "1  [0.7500000000000001, 0.5000000000000001, 0.750...              0  \n",
      "2  [nan, nan, nan, nan, nan, nan, nan, nan, nan, ...              0  \n",
      "3  [0.16666666666666669, 0.5000000000000001, 0.50...              0  \n",
      "4  [0.3333333333333334, 0.3333333333333334, 0.666...              0  \n"
     ]
    }
   ],
   "source": [
    "from sklearn.preprocessing import LabelEncoder\n",
    "label_encoder = LabelEncoder()\n",
    "# Integer encoding the target labels\n",
    "df['label_encoded'] = label_encoder.fit_transform(df['label'])\n",
    "\n",
    "print(df.head())"
   ]
  },
  {
   "cell_type": "code",
   "execution_count": 28,
   "id": "8f3f3ec1-5acf-42a4-81e5-a2a55448cd47",
   "metadata": {},
   "outputs": [
    {
     "name": "stdout",
     "output_type": "stream",
     "text": [
      "Label Mapping:\n",
      "Classical_Cepheids: 0\n",
      "Eclipsing: 1\n",
      "Miras: 2\n",
      "RR_Lyrae: 3\n",
      "Sigma_SCT: 4\n"
     ]
    }
   ],
   "source": [
    "#Printing the label mappings for the integer encoding\n",
    "label_mapping = dict(zip(label_encoder.classes_, label_encoder.transform(label_encoder.classes_)))\n",
    "\n",
    "print(\"Label Mapping:\")\n",
    "for label, integer in label_mapping.items():\n",
    "    print(f\"{label}: {integer}\")\n"
   ]
  },
  {
   "cell_type": "code",
   "execution_count": 30,
   "id": "652a025a-beba-4820-9cb1-7045102bcc2b",
   "metadata": {},
   "outputs": [
    {
     "name": "stdout",
     "output_type": "stream",
     "text": [
      "                                                 mjd  \\\n",
      "0  [0.0, 0.0010629882971039993, 0.007484489474838...   \n",
      "1  [0.0, 0.007460637956382153, 0.0170477737740279...   \n",
      "2  [0.0, 0.0006646703753508668, 0.007145225750104...   \n",
      "3  [0.0, 0.0015970644501540614, 0.016720759467352...   \n",
      "4  [0.0, 0.0007713110984454822, 0.004008365027323...   \n",
      "\n",
      "                                                flux  label_encoded  \n",
      "0  [0.5344202898550744, 0.8478260869565251, 0.751...              0  \n",
      "1  [0.687500000000005, 0.38636363636364, 0.062499...              0  \n",
      "2  [0.7771929824561393, 0.6719298245614016, 0.935...              0  \n",
      "3  [0.39969834087481215, 0.9577677224736014, 0.62...              0  \n",
      "4  [0.31365313653136756, 0.9077490774907738, 0.75...              0  \n"
     ]
    }
   ],
   "source": [
    "# dropping redundant label column\n",
    "# dropping flux_error column because it wasn't adding distinctive information to the light curve\n",
    "df = df.drop(columns=['label', 'flux_error'])\n",
    "print(df.head())"
   ]
  },
  {
   "cell_type": "code",
   "execution_count": 32,
   "id": "daeefbc0-b293-4f77-9f35-d13ee17c8210",
   "metadata": {},
   "outputs": [
    {
     "data": {
      "text/plain": [
       "Index(['mjd', 'flux', 'label_encoded'], dtype='object')"
      ]
     },
     "execution_count": 32,
     "metadata": {},
     "output_type": "execute_result"
    }
   ],
   "source": [
    "df.columns"
   ]
  },
  {
   "cell_type": "code",
   "execution_count": 34,
   "id": "abf9d636-6243-4644-96f1-dbedf4a6dc2e",
   "metadata": {},
   "outputs": [
    {
     "data": {
      "text/html": [
       "<div>\n",
       "<style scoped>\n",
       "    .dataframe tbody tr th:only-of-type {\n",
       "        vertical-align: middle;\n",
       "    }\n",
       "\n",
       "    .dataframe tbody tr th {\n",
       "        vertical-align: top;\n",
       "    }\n",
       "\n",
       "    .dataframe thead th {\n",
       "        text-align: right;\n",
       "    }\n",
       "</style>\n",
       "<table border=\"1\" class=\"dataframe\">\n",
       "  <thead>\n",
       "    <tr style=\"text-align: right;\">\n",
       "      <th></th>\n",
       "      <th>mjd</th>\n",
       "      <th>flux</th>\n",
       "      <th>label_encoded</th>\n",
       "    </tr>\n",
       "  </thead>\n",
       "  <tbody>\n",
       "    <tr>\n",
       "      <th>0</th>\n",
       "      <td>[0.0, 0.0010629882971039993, 0.007484489474838...</td>\n",
       "      <td>[0.5344202898550744, 0.8478260869565251, 0.751...</td>\n",
       "      <td>0</td>\n",
       "    </tr>\n",
       "    <tr>\n",
       "      <th>1</th>\n",
       "      <td>[0.0, 0.007460637956382153, 0.0170477737740279...</td>\n",
       "      <td>[0.687500000000005, 0.38636363636364, 0.062499...</td>\n",
       "      <td>0</td>\n",
       "    </tr>\n",
       "    <tr>\n",
       "      <th>2</th>\n",
       "      <td>[0.0, 0.0006646703753508668, 0.007145225750104...</td>\n",
       "      <td>[0.7771929824561393, 0.6719298245614016, 0.935...</td>\n",
       "      <td>0</td>\n",
       "    </tr>\n",
       "    <tr>\n",
       "      <th>3</th>\n",
       "      <td>[0.0, 0.0015970644501540614, 0.016720759467352...</td>\n",
       "      <td>[0.39969834087481215, 0.9577677224736014, 0.62...</td>\n",
       "      <td>0</td>\n",
       "    </tr>\n",
       "    <tr>\n",
       "      <th>4</th>\n",
       "      <td>[0.0, 0.0007713110984454822, 0.004008365027323...</td>\n",
       "      <td>[0.31365313653136756, 0.9077490774907738, 0.75...</td>\n",
       "      <td>0</td>\n",
       "    </tr>\n",
       "    <tr>\n",
       "      <th>...</th>\n",
       "      <td>...</td>\n",
       "      <td>...</td>\n",
       "      <td>...</td>\n",
       "    </tr>\n",
       "    <tr>\n",
       "      <th>37495</th>\n",
       "      <td>[0.0, 0.012289468429177467, 0.0259410153367528...</td>\n",
       "      <td>[1.0, 0.5368421052631559, 0.43157894736842206,...</td>\n",
       "      <td>4</td>\n",
       "    </tr>\n",
       "    <tr>\n",
       "      <th>37496</th>\n",
       "      <td>[0.0, 8.854936471356963e-05, 0.001770855159212...</td>\n",
       "      <td>[0.5857142857142886, 0.7142857142857114, 0.551...</td>\n",
       "      <td>4</td>\n",
       "    </tr>\n",
       "    <tr>\n",
       "      <th>37497</th>\n",
       "      <td>[0.0, 0.0008644824706564989, 0.001728806331993...</td>\n",
       "      <td>[0.7159763313609459, 0.7958579881656775, 0.958...</td>\n",
       "      <td>4</td>\n",
       "    </tr>\n",
       "    <tr>\n",
       "      <th>37498</th>\n",
       "      <td>[0.0, 0.012145886278229665, 0.0256379373963776...</td>\n",
       "      <td>[0.08000000000000379, 0.5200000000000009, 0.38...</td>\n",
       "      <td>4</td>\n",
       "    </tr>\n",
       "    <tr>\n",
       "      <th>37499</th>\n",
       "      <td>[0.0, 0.0031347148057009164, 0.004483570993976...</td>\n",
       "      <td>[0.5545796737766623, 0.7051442910915944, 0.711...</td>\n",
       "      <td>4</td>\n",
       "    </tr>\n",
       "  </tbody>\n",
       "</table>\n",
       "<p>37500 rows × 3 columns</p>\n",
       "</div>"
      ],
      "text/plain": [
       "                                                     mjd  \\\n",
       "0      [0.0, 0.0010629882971039993, 0.007484489474838...   \n",
       "1      [0.0, 0.007460637956382153, 0.0170477737740279...   \n",
       "2      [0.0, 0.0006646703753508668, 0.007145225750104...   \n",
       "3      [0.0, 0.0015970644501540614, 0.016720759467352...   \n",
       "4      [0.0, 0.0007713110984454822, 0.004008365027323...   \n",
       "...                                                  ...   \n",
       "37495  [0.0, 0.012289468429177467, 0.0259410153367528...   \n",
       "37496  [0.0, 8.854936471356963e-05, 0.001770855159212...   \n",
       "37497  [0.0, 0.0008644824706564989, 0.001728806331993...   \n",
       "37498  [0.0, 0.012145886278229665, 0.0256379373963776...   \n",
       "37499  [0.0, 0.0031347148057009164, 0.004483570993976...   \n",
       "\n",
       "                                                    flux  label_encoded  \n",
       "0      [0.5344202898550744, 0.8478260869565251, 0.751...              0  \n",
       "1      [0.687500000000005, 0.38636363636364, 0.062499...              0  \n",
       "2      [0.7771929824561393, 0.6719298245614016, 0.935...              0  \n",
       "3      [0.39969834087481215, 0.9577677224736014, 0.62...              0  \n",
       "4      [0.31365313653136756, 0.9077490774907738, 0.75...              0  \n",
       "...                                                  ...            ...  \n",
       "37495  [1.0, 0.5368421052631559, 0.43157894736842206,...              4  \n",
       "37496  [0.5857142857142886, 0.7142857142857114, 0.551...              4  \n",
       "37497  [0.7159763313609459, 0.7958579881656775, 0.958...              4  \n",
       "37498  [0.08000000000000379, 0.5200000000000009, 0.38...              4  \n",
       "37499  [0.5545796737766623, 0.7051442910915944, 0.711...              4  \n",
       "\n",
       "[37500 rows x 3 columns]"
      ]
     },
     "execution_count": 34,
     "metadata": {},
     "output_type": "execute_result"
    }
   ],
   "source": [
    "df"
   ]
  },
  {
   "cell_type": "markdown",
   "id": "4030baae-3113-4331-b2e7-1be43d5d0706",
   "metadata": {},
   "source": [
    "Making Bi-Directional Histograms"
   ]
  },
  {
   "cell_type": "code",
   "execution_count": 37,
   "id": "ae43f9b6-912e-479c-ba14-f15a632b4466",
   "metadata": {},
   "outputs": [],
   "source": [
    "def generate_bi_dimensional_histograms(data, bins_dm, bins_dt):\n",
    "    histograms = []\n",
    "    for i in range(len(data)):\n",
    "        light_curve = data.iloc[i]\n",
    "        \n",
    "        # Remove NaN values\n",
    "        light_curve = light_curve.dropna()\n",
    "        \n",
    "        dm = np.diff(light_curve['flux'])\n",
    "        dt = np.diff(light_curve['mjd'])\n",
    "        \n",
    "       \n",
    "        valid_indices = ~np.isnan(dm) & ~np.isnan(dt)\n",
    "        dm = dm[valid_indices]\n",
    "        dt = dt[valid_indices]\n",
    "        \n",
    "   \n",
    "        bins_dm = max(1, bins_dm)\n",
    "        bins_dt = max(1, bins_dt)\n",
    "        \n",
    "        hist, xedges, yedges = np.histogram2d(dm, dt, bins=[bins_dm, bins_dt])\n",
    "        histograms.append(hist)\n",
    "    return np.array(histograms)\n",
    "\n",
    "# For making histograms and putting them in the model we require fix bin size for fix input size\n",
    "fixed_bins_dm = 50  \n",
    "fixed_bins_dt = 50"
   ]
  },
  {
   "cell_type": "code",
   "execution_count": 39,
   "id": "f58ad891-6473-45f8-b81b-3f9f780f56f8",
   "metadata": {},
   "outputs": [
    {
     "name": "stdout",
     "output_type": "stream",
     "text": [
      "Original X_train_hist shape: (18750, 50, 50)\n",
      "Original X_test_hist shape: (18750, 50, 50)\n",
      "Reshaped X_train_hist shape: (18750, 50, 50, 1)\n",
      "Reshaped X_test_hist shape: (18750, 50, 50, 1)\n",
      "y_train_cat shape: (18750, 5)\n",
      "y_test_cat shape: (18750, 5)\n"
     ]
    }
   ],
   "source": [
    "train_df, test_df = train_test_split(df, test_size=0.5, random_state=42)\n",
    "\n",
    "# Generate histograms for training and testing sets\n",
    "X_train_hist = generate_bi_dimensional_histograms(train_df, fixed_bins_dm, fixed_bins_dt)\n",
    "X_test_hist = generate_bi_dimensional_histograms(test_df, fixed_bins_dm, fixed_bins_dt)\n",
    "\n",
    "# Check the shapes of the generated histograms\n",
    "print(f'Original X_train_hist shape: {X_train_hist.shape}')\n",
    "print(f'Original X_test_hist shape: {X_test_hist.shape}')\n",
    "\n",
    "# Reshape histograms to match the expected input shape for LSTM\n",
    "# Assuming the histograms are 2D and need to be reshaped to 3D\n",
    "X_train_hist = X_train_hist.reshape((X_train_hist.shape[0], X_train_hist.shape[1], X_train_hist.shape[2], 1))\n",
    "X_test_hist = X_test_hist.reshape((X_test_hist.shape[0], X_test_hist.shape[1], X_test_hist.shape[2], 1))\n",
    "\n",
    "# Check the shapes after reshaping\n",
    "print(f'Reshaped X_train_hist shape: {X_train_hist.shape}')\n",
    "print(f'Reshaped X_test_hist shape: {X_test_hist.shape}')\n",
    "\n",
    "# Extract labels\n",
    "y_train = train_df['label_encoded'].values\n",
    "y_test = test_df['label_encoded'].values\n",
    "\n",
    "# Convert labels to categorical\n",
    "num_classes = len(np.unique(y_train))\n",
    "y_train_cat = to_categorical(y_train, num_classes)\n",
    "y_test_cat = to_categorical(y_test, num_classes)\n",
    "\n",
    "print(f'y_train_cat shape: {y_train_cat.shape}')\n",
    "print(f'y_test_cat shape: {y_test_cat.shape}')"
   ]
  },
  {
   "cell_type": "markdown",
   "id": "d5dc0cf4-a8ec-4fc4-8741-c02f6339bb49",
   "metadata": {},
   "source": [
    "Making the Model"
   ]
  },
  {
   "cell_type": "code",
   "execution_count": 52,
   "id": "183ca8cd-7f14-43c3-bf9b-44dbfaca5f9c",
   "metadata": {},
   "outputs": [
    {
     "name": "stderr",
     "output_type": "stream",
     "text": [
      "C:\\Users\\omcch\\anaconda3\\Lib\\site-packages\\keras\\src\\layers\\rnn\\rnn.py:204: UserWarning: Do not pass an `input_shape`/`input_dim` argument to a layer. When using Sequential models, prefer using an `Input(shape)` object as the first layer in the model instead.\n",
      "  super().__init__(**kwargs)\n"
     ]
    },
    {
     "data": {
      "text/html": [
       "<pre style=\"white-space:pre;overflow-x:auto;line-height:normal;font-family:Menlo,'DejaVu Sans Mono',consolas,'Courier New',monospace\"><span style=\"font-weight: bold\">Model: \"sequential_1\"</span>\n",
       "</pre>\n"
      ],
      "text/plain": [
       "\u001b[1mModel: \"sequential_1\"\u001b[0m\n"
      ]
     },
     "metadata": {},
     "output_type": "display_data"
    },
    {
     "data": {
      "text/html": [
       "<pre style=\"white-space:pre;overflow-x:auto;line-height:normal;font-family:Menlo,'DejaVu Sans Mono',consolas,'Courier New',monospace\">┏━━━━━━━━━━━━━━━━━━━━━━━━━━━━━━━━━━━━━━┳━━━━━━━━━━━━━━━━━━━━━━━━━━━━━┳━━━━━━━━━━━━━━━━━┓\n",
       "┃<span style=\"font-weight: bold\"> Layer (type)                         </span>┃<span style=\"font-weight: bold\"> Output Shape                </span>┃<span style=\"font-weight: bold\">         Param # </span>┃\n",
       "┡━━━━━━━━━━━━━━━━━━━━━━━━━━━━━━━━━━━━━━╇━━━━━━━━━━━━━━━━━━━━━━━━━━━━━╇━━━━━━━━━━━━━━━━━┩\n",
       "│ lstm (<span style=\"color: #0087ff; text-decoration-color: #0087ff\">LSTM</span>)                          │ (<span style=\"color: #00d7ff; text-decoration-color: #00d7ff\">None</span>, <span style=\"color: #00af00; text-decoration-color: #00af00\">50</span>, <span style=\"color: #00af00; text-decoration-color: #00af00\">128</span>)             │          <span style=\"color: #00af00; text-decoration-color: #00af00\">91,648</span> │\n",
       "├──────────────────────────────────────┼─────────────────────────────┼─────────────────┤\n",
       "│ dropout (<span style=\"color: #0087ff; text-decoration-color: #0087ff\">Dropout</span>)                    │ (<span style=\"color: #00d7ff; text-decoration-color: #00d7ff\">None</span>, <span style=\"color: #00af00; text-decoration-color: #00af00\">50</span>, <span style=\"color: #00af00; text-decoration-color: #00af00\">128</span>)             │               <span style=\"color: #00af00; text-decoration-color: #00af00\">0</span> │\n",
       "├──────────────────────────────────────┼─────────────────────────────┼─────────────────┤\n",
       "│ lstm_1 (<span style=\"color: #0087ff; text-decoration-color: #0087ff\">LSTM</span>)                        │ (<span style=\"color: #00d7ff; text-decoration-color: #00d7ff\">None</span>, <span style=\"color: #00af00; text-decoration-color: #00af00\">64</span>)                  │          <span style=\"color: #00af00; text-decoration-color: #00af00\">49,408</span> │\n",
       "├──────────────────────────────────────┼─────────────────────────────┼─────────────────┤\n",
       "│ dropout_1 (<span style=\"color: #0087ff; text-decoration-color: #0087ff\">Dropout</span>)                  │ (<span style=\"color: #00d7ff; text-decoration-color: #00d7ff\">None</span>, <span style=\"color: #00af00; text-decoration-color: #00af00\">64</span>)                  │               <span style=\"color: #00af00; text-decoration-color: #00af00\">0</span> │\n",
       "├──────────────────────────────────────┼─────────────────────────────┼─────────────────┤\n",
       "│ dense (<span style=\"color: #0087ff; text-decoration-color: #0087ff\">Dense</span>)                        │ (<span style=\"color: #00d7ff; text-decoration-color: #00d7ff\">None</span>, <span style=\"color: #00af00; text-decoration-color: #00af00\">5</span>)                   │             <span style=\"color: #00af00; text-decoration-color: #00af00\">325</span> │\n",
       "└──────────────────────────────────────┴─────────────────────────────┴─────────────────┘\n",
       "</pre>\n"
      ],
      "text/plain": [
       "┏━━━━━━━━━━━━━━━━━━━━━━━━━━━━━━━━━━━━━━┳━━━━━━━━━━━━━━━━━━━━━━━━━━━━━┳━━━━━━━━━━━━━━━━━┓\n",
       "┃\u001b[1m \u001b[0m\u001b[1mLayer (type)                        \u001b[0m\u001b[1m \u001b[0m┃\u001b[1m \u001b[0m\u001b[1mOutput Shape               \u001b[0m\u001b[1m \u001b[0m┃\u001b[1m \u001b[0m\u001b[1m        Param #\u001b[0m\u001b[1m \u001b[0m┃\n",
       "┡━━━━━━━━━━━━━━━━━━━━━━━━━━━━━━━━━━━━━━╇━━━━━━━━━━━━━━━━━━━━━━━━━━━━━╇━━━━━━━━━━━━━━━━━┩\n",
       "│ lstm (\u001b[38;5;33mLSTM\u001b[0m)                          │ (\u001b[38;5;45mNone\u001b[0m, \u001b[38;5;34m50\u001b[0m, \u001b[38;5;34m128\u001b[0m)             │          \u001b[38;5;34m91,648\u001b[0m │\n",
       "├──────────────────────────────────────┼─────────────────────────────┼─────────────────┤\n",
       "│ dropout (\u001b[38;5;33mDropout\u001b[0m)                    │ (\u001b[38;5;45mNone\u001b[0m, \u001b[38;5;34m50\u001b[0m, \u001b[38;5;34m128\u001b[0m)             │               \u001b[38;5;34m0\u001b[0m │\n",
       "├──────────────────────────────────────┼─────────────────────────────┼─────────────────┤\n",
       "│ lstm_1 (\u001b[38;5;33mLSTM\u001b[0m)                        │ (\u001b[38;5;45mNone\u001b[0m, \u001b[38;5;34m64\u001b[0m)                  │          \u001b[38;5;34m49,408\u001b[0m │\n",
       "├──────────────────────────────────────┼─────────────────────────────┼─────────────────┤\n",
       "│ dropout_1 (\u001b[38;5;33mDropout\u001b[0m)                  │ (\u001b[38;5;45mNone\u001b[0m, \u001b[38;5;34m64\u001b[0m)                  │               \u001b[38;5;34m0\u001b[0m │\n",
       "├──────────────────────────────────────┼─────────────────────────────┼─────────────────┤\n",
       "│ dense (\u001b[38;5;33mDense\u001b[0m)                        │ (\u001b[38;5;45mNone\u001b[0m, \u001b[38;5;34m5\u001b[0m)                   │             \u001b[38;5;34m325\u001b[0m │\n",
       "└──────────────────────────────────────┴─────────────────────────────┴─────────────────┘\n"
      ]
     },
     "metadata": {},
     "output_type": "display_data"
    },
    {
     "data": {
      "text/html": [
       "<pre style=\"white-space:pre;overflow-x:auto;line-height:normal;font-family:Menlo,'DejaVu Sans Mono',consolas,'Courier New',monospace\"><span style=\"font-weight: bold\"> Total params: </span><span style=\"color: #00af00; text-decoration-color: #00af00\">141,381</span> (552.27 KB)\n",
       "</pre>\n"
      ],
      "text/plain": [
       "\u001b[1m Total params: \u001b[0m\u001b[38;5;34m141,381\u001b[0m (552.27 KB)\n"
      ]
     },
     "metadata": {},
     "output_type": "display_data"
    },
    {
     "data": {
      "text/html": [
       "<pre style=\"white-space:pre;overflow-x:auto;line-height:normal;font-family:Menlo,'DejaVu Sans Mono',consolas,'Courier New',monospace\"><span style=\"font-weight: bold\"> Trainable params: </span><span style=\"color: #00af00; text-decoration-color: #00af00\">141,381</span> (552.27 KB)\n",
       "</pre>\n"
      ],
      "text/plain": [
       "\u001b[1m Trainable params: \u001b[0m\u001b[38;5;34m141,381\u001b[0m (552.27 KB)\n"
      ]
     },
     "metadata": {},
     "output_type": "display_data"
    },
    {
     "data": {
      "text/html": [
       "<pre style=\"white-space:pre;overflow-x:auto;line-height:normal;font-family:Menlo,'DejaVu Sans Mono',consolas,'Courier New',monospace\"><span style=\"font-weight: bold\"> Non-trainable params: </span><span style=\"color: #00af00; text-decoration-color: #00af00\">0</span> (0.00 B)\n",
       "</pre>\n"
      ],
      "text/plain": [
       "\u001b[1m Non-trainable params: \u001b[0m\u001b[38;5;34m0\u001b[0m (0.00 B)\n"
      ]
     },
     "metadata": {},
     "output_type": "display_data"
    }
   ],
   "source": [
    "model = Sequential()\n",
    "model.add(LSTM(128, input_shape=(X_train_hist.shape[1], X_train_hist.shape[2]), return_sequences=True))\n",
    "model.add(Dropout(0.2))  \n",
    "model.add(LSTM(64))\n",
    "model.add(Dropout(0.2))\n",
    "model.add(Dense(num_classes, activation='softmax'))  \n",
    "\n",
    "# Compile the model\n",
    "model.compile(optimizer='adam', loss='categorical_crossentropy', metrics=['accuracy'])\n",
    "\n",
    "# Summary of the model\n",
    "model.summary()"
   ]
  },
  {
   "cell_type": "code",
   "execution_count": 60,
   "id": "dfe35caf-6ce5-459b-8179-338119f3b37b",
   "metadata": {},
   "outputs": [
    {
     "name": "stderr",
     "output_type": "stream",
     "text": [
      "WARNING:absl:You are saving your model as an HDF5 file via `model.save()` or `keras.saving.save_model(model)`. This file format is considered legacy. We recommend using instead the native Keras format, e.g. `model.save('my_model.keras')` or `keras.saving.save_model(model, 'my_model.keras')`. \n"
     ]
    },
    {
     "name": "stdout",
     "output_type": "stream",
     "text": [
      "Model saved to ./model.h5\n"
     ]
    }
   ],
   "source": [
    "# Saving the model\n",
    "model_save_path = './model.h5'  \n",
    "model.save(model_save_path)\n",
    "print(f'Model saved to {model_save_path}')"
   ]
  },
  {
   "cell_type": "code",
   "execution_count": 62,
   "id": "67a6d758-697c-4686-b81f-9a1822630ed8",
   "metadata": {
    "scrolled": true
   },
   "outputs": [
    {
     "name": "stdout",
     "output_type": "stream",
     "text": [
      "Epoch 1/75\n",
      "\u001b[1m586/586\u001b[0m \u001b[32m━━━━━━━━━━━━━━━━━━━━\u001b[0m\u001b[37m\u001b[0m \u001b[1m46s\u001b[0m 65ms/step - accuracy: 0.6282 - loss: 0.9227 - val_accuracy: 0.8174 - val_loss: 0.4918\n",
      "Epoch 2/75\n",
      "\u001b[1m586/586\u001b[0m \u001b[32m━━━━━━━━━━━━━━━━━━━━\u001b[0m\u001b[37m\u001b[0m \u001b[1m41s\u001b[0m 65ms/step - accuracy: 0.8069 - loss: 0.5028 - val_accuracy: 0.8334 - val_loss: 0.4398\n",
      "Epoch 3/75\n",
      "\u001b[1m586/586\u001b[0m \u001b[32m━━━━━━━━━━━━━━━━━━━━\u001b[0m\u001b[37m\u001b[0m \u001b[1m38s\u001b[0m 65ms/step - accuracy: 0.8398 - loss: 0.4272 - val_accuracy: 0.8566 - val_loss: 0.3893\n",
      "Epoch 4/75\n",
      "\u001b[1m586/586\u001b[0m \u001b[32m━━━━━━━━━━━━━━━━━━━━\u001b[0m\u001b[37m\u001b[0m \u001b[1m39s\u001b[0m 67ms/step - accuracy: 0.8569 - loss: 0.3851 - val_accuracy: 0.8724 - val_loss: 0.3654\n",
      "Epoch 5/75\n",
      "\u001b[1m586/586\u001b[0m \u001b[32m━━━━━━━━━━━━━━━━━━━━\u001b[0m\u001b[37m\u001b[0m \u001b[1m44s\u001b[0m 71ms/step - accuracy: 0.8718 - loss: 0.3489 - val_accuracy: 0.8855 - val_loss: 0.3309\n",
      "Epoch 6/75\n",
      "\u001b[1m586/586\u001b[0m \u001b[32m━━━━━━━━━━━━━━━━━━━━\u001b[0m\u001b[37m\u001b[0m \u001b[1m38s\u001b[0m 64ms/step - accuracy: 0.8893 - loss: 0.3171 - val_accuracy: 0.8881 - val_loss: 0.3206\n",
      "Epoch 7/75\n",
      "\u001b[1m586/586\u001b[0m \u001b[32m━━━━━━━━━━━━━━━━━━━━\u001b[0m\u001b[37m\u001b[0m \u001b[1m43s\u001b[0m 73ms/step - accuracy: 0.8944 - loss: 0.2999 - val_accuracy: 0.8931 - val_loss: 0.3130\n",
      "Epoch 8/75\n",
      "\u001b[1m586/586\u001b[0m \u001b[32m━━━━━━━━━━━━━━━━━━━━\u001b[0m\u001b[37m\u001b[0m \u001b[1m34s\u001b[0m 58ms/step - accuracy: 0.9002 - loss: 0.2877 - val_accuracy: 0.8926 - val_loss: 0.3124\n",
      "Epoch 9/75\n",
      "\u001b[1m586/586\u001b[0m \u001b[32m━━━━━━━━━━━━━━━━━━━━\u001b[0m\u001b[37m\u001b[0m \u001b[1m36s\u001b[0m 61ms/step - accuracy: 0.9041 - loss: 0.2694 - val_accuracy: 0.8927 - val_loss: 0.3136\n",
      "Epoch 10/75\n",
      "\u001b[1m586/586\u001b[0m \u001b[32m━━━━━━━━━━━━━━━━━━━━\u001b[0m\u001b[37m\u001b[0m \u001b[1m36s\u001b[0m 61ms/step - accuracy: 0.9121 - loss: 0.2604 - val_accuracy: 0.8983 - val_loss: 0.3083\n",
      "Epoch 11/75\n",
      "\u001b[1m586/586\u001b[0m \u001b[32m━━━━━━━━━━━━━━━━━━━━\u001b[0m\u001b[37m\u001b[0m \u001b[1m37s\u001b[0m 64ms/step - accuracy: 0.9106 - loss: 0.2621 - val_accuracy: 0.8994 - val_loss: 0.2934\n",
      "Epoch 12/75\n",
      "\u001b[1m586/586\u001b[0m \u001b[32m━━━━━━━━━━━━━━━━━━━━\u001b[0m\u001b[37m\u001b[0m \u001b[1m43s\u001b[0m 74ms/step - accuracy: 0.9179 - loss: 0.2427 - val_accuracy: 0.8964 - val_loss: 0.3060\n",
      "Epoch 13/75\n",
      "\u001b[1m586/586\u001b[0m \u001b[32m━━━━━━━━━━━━━━━━━━━━\u001b[0m\u001b[37m\u001b[0m \u001b[1m40s\u001b[0m 68ms/step - accuracy: 0.9221 - loss: 0.2291 - val_accuracy: 0.9030 - val_loss: 0.2885\n",
      "Epoch 14/75\n",
      "\u001b[1m586/586\u001b[0m \u001b[32m━━━━━━━━━━━━━━━━━━━━\u001b[0m\u001b[37m\u001b[0m \u001b[1m41s\u001b[0m 70ms/step - accuracy: 0.9237 - loss: 0.2237 - val_accuracy: 0.9078 - val_loss: 0.2779\n",
      "Epoch 15/75\n",
      "\u001b[1m586/586\u001b[0m \u001b[32m━━━━━━━━━━━━━━━━━━━━\u001b[0m\u001b[37m\u001b[0m \u001b[1m41s\u001b[0m 69ms/step - accuracy: 0.9279 - loss: 0.2131 - val_accuracy: 0.8916 - val_loss: 0.3105\n",
      "Epoch 16/75\n",
      "\u001b[1m586/586\u001b[0m \u001b[32m━━━━━━━━━━━━━━━━━━━━\u001b[0m\u001b[37m\u001b[0m \u001b[1m38s\u001b[0m 65ms/step - accuracy: 0.9267 - loss: 0.2066 - val_accuracy: 0.9038 - val_loss: 0.2853\n",
      "Epoch 17/75\n",
      "\u001b[1m586/586\u001b[0m \u001b[32m━━━━━━━━━━━━━━━━━━━━\u001b[0m\u001b[37m\u001b[0m \u001b[1m40s\u001b[0m 68ms/step - accuracy: 0.9321 - loss: 0.1888 - val_accuracy: 0.9066 - val_loss: 0.2813\n",
      "Epoch 18/75\n",
      "\u001b[1m586/586\u001b[0m \u001b[32m━━━━━━━━━━━━━━━━━━━━\u001b[0m\u001b[37m\u001b[0m \u001b[1m42s\u001b[0m 69ms/step - accuracy: 0.9314 - loss: 0.1990 - val_accuracy: 0.9077 - val_loss: 0.2835\n",
      "Epoch 19/75\n",
      "\u001b[1m586/586\u001b[0m \u001b[32m━━━━━━━━━━━━━━━━━━━━\u001b[0m\u001b[37m\u001b[0m \u001b[1m39s\u001b[0m 66ms/step - accuracy: 0.9372 - loss: 0.1831 - val_accuracy: 0.9042 - val_loss: 0.2878\n",
      "Epoch 20/75\n",
      "\u001b[1m586/586\u001b[0m \u001b[32m━━━━━━━━━━━━━━━━━━━━\u001b[0m\u001b[37m\u001b[0m \u001b[1m45s\u001b[0m 76ms/step - accuracy: 0.9374 - loss: 0.1817 - val_accuracy: 0.9040 - val_loss: 0.3031\n",
      "Epoch 21/75\n",
      "\u001b[1m586/586\u001b[0m \u001b[32m━━━━━━━━━━━━━━━━━━━━\u001b[0m\u001b[37m\u001b[0m \u001b[1m43s\u001b[0m 73ms/step - accuracy: 0.9428 - loss: 0.1687 - val_accuracy: 0.9124 - val_loss: 0.2730\n",
      "Epoch 22/75\n",
      "\u001b[1m586/586\u001b[0m \u001b[32m━━━━━━━━━━━━━━━━━━━━\u001b[0m\u001b[37m\u001b[0m \u001b[1m42s\u001b[0m 71ms/step - accuracy: 0.9391 - loss: 0.1731 - val_accuracy: 0.9108 - val_loss: 0.2735\n",
      "Epoch 23/75\n",
      "\u001b[1m586/586\u001b[0m \u001b[32m━━━━━━━━━━━━━━━━━━━━\u001b[0m\u001b[37m\u001b[0m \u001b[1m40s\u001b[0m 69ms/step - accuracy: 0.9480 - loss: 0.1527 - val_accuracy: 0.9075 - val_loss: 0.3092\n",
      "Epoch 24/75\n",
      "\u001b[1m586/586\u001b[0m \u001b[32m━━━━━━━━━━━━━━━━━━━━\u001b[0m\u001b[37m\u001b[0m \u001b[1m40s\u001b[0m 68ms/step - accuracy: 0.9459 - loss: 0.1616 - val_accuracy: 0.9103 - val_loss: 0.2934\n",
      "Epoch 25/75\n",
      "\u001b[1m586/586\u001b[0m \u001b[32m━━━━━━━━━━━━━━━━━━━━\u001b[0m\u001b[37m\u001b[0m \u001b[1m38s\u001b[0m 65ms/step - accuracy: 0.9466 - loss: 0.1573 - val_accuracy: 0.9083 - val_loss: 0.2978\n",
      "Epoch 26/75\n",
      "\u001b[1m586/586\u001b[0m \u001b[32m━━━━━━━━━━━━━━━━━━━━\u001b[0m\u001b[37m\u001b[0m \u001b[1m40s\u001b[0m 68ms/step - accuracy: 0.9476 - loss: 0.1511 - val_accuracy: 0.9095 - val_loss: 0.2945\n",
      "Epoch 27/75\n",
      "\u001b[1m586/586\u001b[0m \u001b[32m━━━━━━━━━━━━━━━━━━━━\u001b[0m\u001b[37m\u001b[0m \u001b[1m40s\u001b[0m 67ms/step - accuracy: 0.9523 - loss: 0.1366 - val_accuracy: 0.9053 - val_loss: 0.3073\n",
      "Epoch 28/75\n",
      "\u001b[1m586/586\u001b[0m \u001b[32m━━━━━━━━━━━━━━━━━━━━\u001b[0m\u001b[37m\u001b[0m \u001b[1m39s\u001b[0m 66ms/step - accuracy: 0.9532 - loss: 0.1408 - val_accuracy: 0.9031 - val_loss: 0.3235\n",
      "Epoch 29/75\n",
      "\u001b[1m586/586\u001b[0m \u001b[32m━━━━━━━━━━━━━━━━━━━━\u001b[0m\u001b[37m\u001b[0m \u001b[1m47s\u001b[0m 80ms/step - accuracy: 0.9552 - loss: 0.1305 - val_accuracy: 0.9117 - val_loss: 0.3027\n",
      "Epoch 30/75\n",
      "\u001b[1m586/586\u001b[0m \u001b[32m━━━━━━━━━━━━━━━━━━━━\u001b[0m\u001b[37m\u001b[0m \u001b[1m45s\u001b[0m 76ms/step - accuracy: 0.9587 - loss: 0.1184 - val_accuracy: 0.9073 - val_loss: 0.3198\n",
      "Epoch 31/75\n",
      "\u001b[1m586/586\u001b[0m \u001b[32m━━━━━━━━━━━━━━━━━━━━\u001b[0m\u001b[37m\u001b[0m \u001b[1m84s\u001b[0m 79ms/step - accuracy: 0.9616 - loss: 0.1122 - val_accuracy: 0.9053 - val_loss: 0.3222\n",
      "Epoch 32/75\n",
      "\u001b[1m586/586\u001b[0m \u001b[32m━━━━━━━━━━━━━━━━━━━━\u001b[0m\u001b[37m\u001b[0m \u001b[1m41s\u001b[0m 70ms/step - accuracy: 0.9583 - loss: 0.1215 - val_accuracy: 0.9042 - val_loss: 0.3243\n",
      "Epoch 33/75\n",
      "\u001b[1m586/586\u001b[0m \u001b[32m━━━━━━━━━━━━━━━━━━━━\u001b[0m\u001b[37m\u001b[0m \u001b[1m39s\u001b[0m 66ms/step - accuracy: 0.9612 - loss: 0.1190 - val_accuracy: 0.9061 - val_loss: 0.3320\n",
      "Epoch 34/75\n",
      "\u001b[1m586/586\u001b[0m \u001b[32m━━━━━━━━━━━━━━━━━━━━\u001b[0m\u001b[37m\u001b[0m \u001b[1m39s\u001b[0m 67ms/step - accuracy: 0.9649 - loss: 0.1050 - val_accuracy: 0.9050 - val_loss: 0.3253\n",
      "Epoch 35/75\n",
      "\u001b[1m586/586\u001b[0m \u001b[32m━━━━━━━━━━━━━━━━━━━━\u001b[0m\u001b[37m\u001b[0m \u001b[1m40s\u001b[0m 69ms/step - accuracy: 0.9642 - loss: 0.1056 - val_accuracy: 0.9079 - val_loss: 0.3367\n",
      "Epoch 36/75\n",
      "\u001b[1m586/586\u001b[0m \u001b[32m━━━━━━━━━━━━━━━━━━━━\u001b[0m\u001b[37m\u001b[0m \u001b[1m37s\u001b[0m 63ms/step - accuracy: 0.9636 - loss: 0.1045 - val_accuracy: 0.9098 - val_loss: 0.3349\n"
     ]
    }
   ],
   "source": [
    "# Implementing the early stopping condition\n",
    "early_stopping = EarlyStopping(monitor='val_loss', patience=15, restore_best_weights=True)\n",
    "history = model.fit(X_train_hist, y_train_cat, epochs=75, batch_size=32, validation_data=(X_test_hist, y_test_cat), callbacks=[early_stopping])"
   ]
  },
  {
   "cell_type": "markdown",
   "id": "abd47cf1-f444-49e2-a988-3762d6ea67e4",
   "metadata": {},
   "source": [
    "Evaluating the Model"
   ]
  },
  {
   "cell_type": "code",
   "execution_count": 64,
   "id": "044c7a2d-3ff0-4fc5-b265-969bd56a22dc",
   "metadata": {},
   "outputs": [
    {
     "name": "stdout",
     "output_type": "stream",
     "text": [
      "\u001b[1m586/586\u001b[0m \u001b[32m━━━━━━━━━━━━━━━━━━━━\u001b[0m\u001b[37m\u001b[0m \u001b[1m13s\u001b[0m 23ms/step - accuracy: 0.9115 - loss: 0.2802\n",
      "Test Loss: 0.27304166555404663\n",
      "Test Accuracy: 0.9124266505241394\n"
     ]
    },
    {
     "data": {
      "image/png": "[encoded data removed]",
      "text/plain": [
       "<Figure size 1200x400 with 2 Axes>"
      ]
     },
     "metadata": {},
     "output_type": "display_data"
    }
   ],
   "source": [
    "\n",
    "#evaluating model for test finally\n",
    "loss, accuracy = model.evaluate(X_test_hist, y_test_cat)\n",
    "print(f'Test Loss: {loss}')\n",
    "print(f'Test Accuracy: {accuracy}')\n",
    "\n",
    "# Plot training & validation accuracy values\n",
    "plt.figure(figsize=(12, 4))\n",
    "plt.subplot(1, 2, 1)\n",
    "plt.plot(history.history['accuracy'])\n",
    "plt.plot(history.history['val_accuracy'])\n",
    "plt.title('Model accuracy')\n",
    "plt.ylabel('Accuracy')\n",
    "plt.xlabel('Epoch')\n",
    "plt.legend(['Train', 'Test'], loc='upper left')\n",
    "\n",
    "# Plot training & validation loss values\n",
    "plt.subplot(1, 2, 2)\n",
    "plt.plot(history.history['loss'])\n",
    "plt.plot(history.history['val_loss'])\n",
    "plt.title('Model loss')\n",
    "plt.ylabel('Loss')\n",
    "plt.xlabel('Epoch')\n",
    "plt.legend(['Train', 'Test'], loc='upper left')\n",
    "\n",
    "plt.show()"
   ]
  },
  {
   "cell_type": "code",
   "execution_count": 66,
   "id": "6b6cce67-b463-49a5-935e-65276cb089a2",
   "metadata": {},
   "outputs": [
    {
     "name": "stdout",
     "output_type": "stream",
     "text": [
      "\u001b[1m586/586\u001b[0m \u001b[32m━━━━━━━━━━━━━━━━━━━━\u001b[0m\u001b[37m\u001b[0m \u001b[1m11s\u001b[0m 18ms/step\n",
      "Classification Report:\n",
      "               precision    recall  f1-score   support\n",
      "\n",
      "     Class 0       0.92      0.94      0.93      3718\n",
      "     Class 1       0.98      0.98      0.98      3846\n",
      "     Class 2       0.92      0.94      0.93      3666\n",
      "     Class 3       0.88      0.83      0.86      3699\n",
      "     Class 4       0.85      0.86      0.86      3821\n",
      "\n",
      "    accuracy                           0.91     18750\n",
      "   macro avg       0.91      0.91      0.91     18750\n",
      "weighted avg       0.91      0.91      0.91     18750\n",
      "\n"
     ]
    },
    {
     "data": {
      "image/png": "[encoded data removed]",
      "text/plain": [
       "<Figure size 640x480 with 2 Axes>"
      ]
     },
     "metadata": {},
     "output_type": "display_data"
    },
    {
     "name": "stdout",
     "output_type": "stream",
     "text": [
      "     Class  Precision    Recall  F1 Score  Support\n",
      "0  Class 0   0.922813  0.942173  0.932393     3718\n",
      "1  Class 1   0.979491  0.981019  0.980255     3846\n",
      "2  Class 2   0.920555  0.941899  0.931104     3666\n",
      "3  Class 3   0.884095  0.831035  0.856745     3699\n",
      "4  Class 4   0.853123  0.864957  0.858999     3821\n",
      "Overall Accuracy: 0.9124\n"
     ]
    }
   ],
   "source": [
    "# Predict on test data\n",
    "y_pred_prob = model.predict(X_test_hist)\n",
    "y_pred = np.argmax(y_pred_prob, axis=1)\n",
    "y_true = np.argmax(y_test_cat, axis=1)\n",
    "\n",
    "# Calculate metrics\n",
    "report = classification_report(y_true, y_pred, target_names=[f'Class {i}' for i in range(num_classes)])\n",
    "print(\"Classification Report:\\n\", report)\n",
    "\n",
    "# Confusion Matrix\n",
    "cm = confusion_matrix(y_true, y_pred)\n",
    "disp = ConfusionMatrixDisplay(confusion_matrix=cm, display_labels=[f'Class {i}' for i in range(num_classes)])\n",
    "disp.plot(cmap=plt.cm.Blues)\n",
    "plt.title('Confusion Matrix')\n",
    "plt.show()\n",
    "\n",
    "# Precision, Recall, F1 Score, and Support\n",
    "precision = np.diag(cm) / np.sum(cm, axis=0)\n",
    "recall = np.diag(cm) / np.sum(cm, axis=1)\n",
    "f1_scores = 2 * precision * recall / (precision + recall)\n",
    "support = np.sum(cm, axis=1)\n",
    "\n",
    "# Display metrics\n",
    "metrics_df = pd.DataFrame({\n",
    "    'Class': [f'Class {i}' for i in range(num_classes)],\n",
    "    'Precision': precision,\n",
    "    'Recall': recall,\n",
    "    'F1 Score': f1_scores,\n",
    "    'Support': support\n",
    "})\n",
    "print(metrics_df)\n",
    "\n",
    "# Overall metrics\n",
    "overall_accuracy = np.trace(cm) / np.sum(cm)\n",
    "print(f'Overall Accuracy: {overall_accuracy:.4f}')"
   ]
  }
 ],
 "metadata": {
  "kernelspec": {
   "display_name": "Python 3 (ipykernel)",
   "language": "python",
   "name": "python3"
  },
  "language_info": {
   "codemirror_mode": {
    "name": "ipython",
    "version": 3
   },
   "file_extension": ".py",
   "mimetype": "text/x-python",
   "name": "python",
   "nbconvert_exporter": "python",
   "pygments_lexer": "ipython3",
   "version": "3.12.4"
  }
 },
 "nbformat": 4,
 "nbformat_minor": 5
}
